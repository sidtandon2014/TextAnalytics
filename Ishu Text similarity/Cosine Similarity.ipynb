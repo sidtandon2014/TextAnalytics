{
 "cells": [
  {
   "cell_type": "code",
   "execution_count": 1,
   "metadata": {
    "collapsed": false
   },
   "outputs": [],
   "source": [
    "import numpy as np\n",
    "import pandas as pd\n",
    "from sklearn.feature_extraction import FeatureHasher\n",
    "from sklearn.feature_extraction.text import TfidfVectorizer\n",
    "from sklearn.metrics.pairwise import cosine_similarity\n",
    "import math\n",
    "import pyodbc\n",
    "import pickle\n",
    "from sklearn.feature_extraction import text as txt\n",
    "import nltk\n",
    "from nltk.corpus import wordnet as wn"
   ]
  },
  {
   "cell_type": "code",
   "execution_count": 2,
   "metadata": {
    "collapsed": false
   },
   "outputs": [],
   "source": [
    "#---------Get data from database\n",
    "cnxn = pyodbc.connect('DRIVER={SQL Server};SERVER=125.99.16.182;DATABASE=SocialListening;UID=sa;PWD=vikas')\n",
    "cursor = cnxn.cursor()\n",
    "sqlCommand = \"SELECT * FROM tmpLEads\"\n",
    "cursor.execute(sqlCommand)\n",
    "results = cursor.fetchone()\n",
    "text = []\n",
    "while results:\n",
    "    text.append(results[0])\n",
    "    results = cursor.fetchone()\n",
    "cnxn.close()"
   ]
  },
  {
   "cell_type": "code",
   "execution_count": 2,
   "metadata": {
    "collapsed": true
   },
   "outputs": [],
   "source": [
    "#---------FileName where contents are stored\n",
    "fileName = \"F:\\Sid\\Learnings\\Data Scientist\\Text Analysis\\Leads.txt\"\n",
    "text = []"
   ]
  },
  {
   "cell_type": "code",
   "execution_count": 11,
   "metadata": {
    "collapsed": true
   },
   "outputs": [],
   "source": [
    "#-------Save data to disk\n",
    "with open(fileName, 'wb') as fp:\n",
    "    pickle.dump(text, fp)"
   ]
  },
  {
   "cell_type": "code",
   "execution_count": 3,
   "metadata": {
    "collapsed": false
   },
   "outputs": [],
   "source": [
    "#------REad data from disk\n",
    "with open (fileName, 'rb') as fp:\n",
    "    text = pickle.load(fp)"
   ]
  },
  {
   "cell_type": "code",
   "execution_count": 5,
   "metadata": {
    "collapsed": false
   },
   "outputs": [],
   "source": [
    "wordsSim = {}\n",
    "\n",
    "def calcualteStatisticSimilarity(tdm):\n",
    "    similarity = []\n",
    "    for item in tdm:\n",
    "        tmpSim = cosine_similarity(item,tdm)\n",
    "        #print(tmpSim.shape)\n",
    "        #val = []\n",
    "        #--------Iterate over similarities and get top 5 similar values\n",
    "        #for z_index in np.argsort(tmpSim)[0,0:5]:\n",
    "        #    val.append(z_index)\n",
    "        similarity.append(tmpSim)\n",
    "    return similarity\n",
    "\n",
    "def allStopWords(feeds):\n",
    "    dict = {}\n",
    "    extraWords = set([\"?\",\".\",\"#\",\"he\",\"-\"])\n",
    "    for stmt in feeds:\n",
    "        for word in stmt.split():\n",
    "            lowerWord = word.lower()\n",
    "            if lowerWord in dict:\n",
    "                dict[lowerWord]+=1\n",
    "            else:\n",
    "                dict[lowerWord] = 1     \n",
    "    for key, value in dict.items():\n",
    "        if(value < 10):\n",
    "            extraWords.add(key)\n",
    "    myStopWords = txt.ENGLISH_STOP_WORDS.union(extraWords)\n",
    "    return myStopWords\n",
    "\n",
    "def getMaxSemanticSimilarityBetweenWords(word1,word2):\n",
    "    if word1 == word2:\n",
    "        return 1\n",
    "    \n",
    "    #---------Check whether the similarity exists or not in dictionary\n",
    "    dictKey = '_'.join(np.sort([word1,word2]))\n",
    "    if dictKey in wordsSim:\n",
    "        return wordsSim[dictKey]\n",
    "        \n",
    "    #----------Calculate path similarity    \n",
    "    word1_syns = wn.synsets(word1)\n",
    "    word2_syns = wn.synsets(word2)\n",
    "    itemList = []\n",
    "    for item_x in word1_syns:\n",
    "        for item_y in word2_syns:\n",
    "            itemList.append((item_x,item_y,item_x.path_similarity(item_y)))\n",
    "            \n",
    "    max_tuple = ()\n",
    "    max_sim = 0.0\n",
    "    for item in itemList:\n",
    "        if (item[2] != None) and max_sim < item[2]:\n",
    "            max_sim = item[2]\n",
    "            \n",
    "    wordsSim[dictKey] = max_sim\n",
    "    return max_sim\n",
    "\n",
    "def removeStopWordsFromString(statement,myStopWords):\n",
    "    sentence = []\n",
    "    for word in statement.split():\n",
    "        if word.lower() not in myStopWords:\n",
    "            sentence.append(word.lower())\n",
    "    return ' '.join(sentence)\n",
    "\n",
    "def cleanFeeds(allFeeds):\n",
    "    tmpfeeds = []\n",
    "    myStopWords = allStopWords(allFeeds)\n",
    "    for val in allFeeds:\n",
    "        tmpVal = removeStopWordsFromString(val,myStopWords)\n",
    "        totalWords = len(tmpVal.split())\n",
    "        if totalWords > 1 and totalWords <= 20:\n",
    "            tmpfeeds.append(tmpVal)\n",
    "    return tmpfeeds\n",
    "\n",
    "def calculateSimilarityBetweenStatements(statement1,statement2):\n",
    "    if len(statement1) == 0 or len(statement2) == 0:\n",
    "        return 0,0\n",
    "    else:\n",
    "        stmt1_words = statement1.split()\n",
    "        stmt2_words = statement2.split()\n",
    "        maxSim = 0\n",
    "        totalSim = 0\n",
    "        for word1 in stmt1_words:\n",
    "            for word2 in stmt2_words:\n",
    "                #-----------Send words in lowercase\n",
    "                tmpSim = getMaxSemanticSimilarityBetweenWords(word1.lower(),word2.lower())\n",
    "                if maxSim < tmpSim:\n",
    "                    maxSim = tmpSim\n",
    "            totalSim+= maxSim      \n",
    "            maxSim = 0\n",
    "        return totalSim,len(stmt1_words)\n",
    "\n",
    "def calcualteSemanticSimilarity(feeds):\n",
    "    SemanticSim = np.ones((len(feeds),len(feeds)))\n",
    "    for indexOuter in range(len(feeds)):\n",
    "        if indexOuter %100 == 0:\n",
    "            print(\"Outer Index {0} in Progress\".format(indexOuter))\n",
    "        for indexInner in range(indexOuter + 1,len(feeds)):\n",
    "            if indexInner %1000 == 0:\n",
    "                print(\"Inner Index {0} in Progress\".format(indexInner))\n",
    "            sim1,totalWords1 = calculateSimilarityBetweenStatements(feeds[indexOuter],feeds[indexInner])\n",
    "            sim2,totalWords2 = calculateSimilarityBetweenStatements(feeds[indexInner],feeds[indexOuter])\n",
    "            calc = 0\n",
    "            if totalWords1 != 0 and totalWords2 != 0:\n",
    "                calc = ((sim1/totalWords1) + (sim2/totalWords2))/2\n",
    "            SemanticSim[indexOuter,indexInner] =calc\n",
    "    \n",
    "    #---------Fill the remaining indexes with correct values\n",
    "    \n",
    "    for indexOuter in range(len(feeds)-1,0,-1):\n",
    "        print(\"outer:\", index);\n",
    "        for indexInner in range(indexOuter-1,-1,-1):\n",
    "            SemanticSim[indexOuter,indexInner] = SemanticSim[indexInner,indexOuter] \n",
    "        \n",
    "    return SemanticSim\n",
    "\n",
    "def calculateSimilarity(tdm,feeds):\n",
    "    SemSim = calcualteSemanticSimilarity(feeds)\n",
    "    statSim = calcualteStatisticSimilarity(tdm)\n",
    "    return statSim,SemSim"
   ]
  },
  {
   "cell_type": "code",
   "execution_count": 6,
   "metadata": {
    "collapsed": false
   },
   "outputs": [],
   "source": [
    "#create Vectorizer\n",
    "feeds = cleanFeeds(text)\n",
    "vectorizer = TfidfVectorizer()\n",
    "tdm = vectorizer.fit_transform(feeds)"
   ]
  },
  {
   "cell_type": "code",
   "execution_count": null,
   "metadata": {
    "collapsed": false
   },
   "outputs": [
    {
     "name": "stdout",
     "output_type": "stream",
     "text": [
      "Outer Index 0 in Progress\n"
     ]
    }
   ],
   "source": [
    "statSim,SemSim = calculateSimilarity(tdm,feeds)"
   ]
  },
  {
   "cell_type": "code",
   "execution_count": 75,
   "metadata": {
    "collapsed": false
   },
   "outputs": [],
   "source": [
    "import matplotlib.pyplot as plt\n",
    "import matplotlib\n",
    "\n",
    "%matplotlib inline\n",
    "x,dict = allStopWords(te)\n",
    "value_freq = []\n",
    "for key, value in dict.items():\n",
    "    if(value<100):\n",
    "        value_freq.append(value)\n",
    "\n",
    "\n"
   ]
  },
  {
   "cell_type": "code",
   "execution_count": 83,
   "metadata": {
    "collapsed": false
   },
   "outputs": [
    {
     "data": {
      "image/png": "[encoded data removed]",
      "text/plain": [
       "<matplotlib.figure.Figure at 0x18dfd0b8780>"
      ]
     },
     "metadata": {},
     "output_type": "display_data"
    }
   ],
   "source": [
    "fig = plt.figure()\n",
    "ax = fig.add_subplot(111)\n",
    "n,bins,patches = ax.hist(value_freq, normed=0, facecolor='green', alpha=0.75)\n",
    "plt.show()\n"
   ]
  },
  {
   "cell_type": "code",
   "execution_count": 7,
   "metadata": {
    "collapsed": false
   },
   "outputs": [
    {
     "data": {
      "text/plain": [
       "27699"
      ]
     },
     "execution_count": 7,
     "metadata": {},
     "output_type": "execute_result"
    }
   ],
   "source": [
    "len(feeds)"
   ]
  }
 ],
 "metadata": {
  "anaconda-cloud": {},
  "kernelspec": {
   "display_name": "Python [Root]",
   "language": "python",
   "name": "Python [Root]"
  },
  "language_info": {
   "codemirror_mode": {
    "name": "ipython",
    "version": 3
   },
   "file_extension": ".py",
   "mimetype": "text/x-python",
   "name": "python",
   "nbconvert_exporter": "python",
   "pygments_lexer": "ipython3",
   "version": "3.5.4"
  }
 },
 "nbformat": 4,
 "nbformat_minor": 0
}
