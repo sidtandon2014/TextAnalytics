{
 "cells": [
  {
   "cell_type": "code",
   "execution_count": 1,
   "metadata": {
    "collapsed": false
   },
   "outputs": [],
   "source": [
    "#Load Librarues\n",
    "import numpy as np\n",
    "import pandas as pd\n",
    "import sklearn.feature_extraction\n",
    "from sklearn.feature_extraction.text import CountVectorizer\n",
    "import matplotlib.pyplot as plt\n",
    "import matplotlib\n",
    "from sklearn.decomposition import PCA\n",
    "from mpl_toolkits.mplot3d import Axes3D\n",
    "from sklearn.cluster import KMeans\n",
    "\n",
    "%matplotlib inline"
   ]
  },
  {
   "cell_type": "code",
   "execution_count": 2,
   "metadata": {
    "collapsed": false
   },
   "outputs": [
    {
     "data": {
      "text/html": [
       "<div>\n",
       "<table border=\"1\" class=\"dataframe\">\n",
       "  <thead>\n",
       "    <tr style=\"text-align: right;\">\n",
       "      <th></th>\n",
       "      <th>Title</th>\n",
       "      <th>Category</th>\n",
       "      <th>Text</th>\n",
       "    </tr>\n",
       "  </thead>\n",
       "  <tbody>\n",
       "    <tr>\n",
       "      <th>0</th>\n",
       "      <td>Apple Inc.</td>\n",
       "      <td>Information Technology</td>\n",
       "      <td>nasdaq 100 component s p 500 component founda...</td>\n",
       "    </tr>\n",
       "    <tr>\n",
       "      <th>1</th>\n",
       "      <td>Adobe Systems</td>\n",
       "      <td>Information Technology</td>\n",
       "      <td>br nasdaq 100 nasdaq 100 component br s p 500...</td>\n",
       "    </tr>\n",
       "    <tr>\n",
       "      <th>2</th>\n",
       "      <td>General Motors</td>\n",
       "      <td>Consumer Discretionary</td>\n",
       "      <td>s p 500 s p 500 component industry automotive...</td>\n",
       "    </tr>\n",
       "    <tr>\n",
       "      <th>3</th>\n",
       "      <td>General Electric</td>\n",
       "      <td>Energy</td>\n",
       "      <td>s p 500 s p 500 component industry conglomera...</td>\n",
       "    </tr>\n",
       "    <tr>\n",
       "      <th>4</th>\n",
       "      <td>Harley-Davidson</td>\n",
       "      <td>Consumer Discretionary</td>\n",
       "      <td>br s p 500 s p 500 component foundation 1903 ...</td>\n",
       "    </tr>\n",
       "  </tbody>\n",
       "</table>\n",
       "</div>"
      ],
      "text/plain": [
       "              Title                Category  \\\n",
       "0        Apple Inc.  Information Technology   \n",
       "1     Adobe Systems  Information Technology   \n",
       "2    General Motors  Consumer Discretionary   \n",
       "3  General Electric                  Energy   \n",
       "4   Harley-Davidson  Consumer Discretionary   \n",
       "\n",
       "                                                Text  \n",
       "0   nasdaq 100 component s p 500 component founda...  \n",
       "1   br nasdaq 100 nasdaq 100 component br s p 500...  \n",
       "2   s p 500 s p 500 component industry automotive...  \n",
       "3   s p 500 s p 500 component industry conglomera...  \n",
       "4   br s p 500 s p 500 component foundation 1903 ...  "
      ]
     },
     "execution_count": 2,
     "metadata": {},
     "output_type": "execute_result"
    }
   ],
   "source": [
    "#Feature hashing technique\n",
    "dataframe = pd.read_csv(\"F:\\Sid\\Learnings\\Data Scientist\\Examples\\Similar Companies Clustering using FeatureHashing and CountVectorizer\\Wikipedia SP 500 Dataset.csv\")\\\n",
    "\n",
    "dataframe.head()"
   ]
  },
  {
   "cell_type": "code",
   "execution_count": 9,
   "metadata": {
    "collapsed": false
   },
   "outputs": [
    {
     "data": {
      "text/plain": [
       "array([9, 4, 1, 1, 3, 8, 1, 0, 1, 0, 0, 7, 1, 1, 0, 1, 4, 0, 0, 1, 3, 4, 0,\n",
       "       5, 4, 0, 3, 4, 1, 4, 7, 2, 0, 1, 4, 5, 3, 0, 4, 0, 7, 7, 4, 0, 1, 4,\n",
       "       4, 0, 0, 1, 4, 4, 7, 4, 4, 4, 4, 7, 0, 1, 1, 4, 7, 5, 1, 0, 0, 5, 5,\n",
       "       0, 1, 0, 5, 1, 5, 4, 4, 4, 0, 1, 0, 2, 0, 0, 0, 0, 2, 4, 1, 0, 0, 0,\n",
       "       1, 0, 4, 0, 0, 5, 0, 4, 4, 0, 5, 4, 0, 5, 0, 0, 0, 5, 5, 5, 0, 5, 5,\n",
       "       5, 5, 5, 0, 4, 4, 0, 0, 0, 0, 1, 5, 0, 0, 0, 0, 5, 5, 1, 0, 4, 4, 0,\n",
       "       4, 1, 0, 4, 5, 5, 4, 0, 0, 5, 1, 5, 0, 0, 4, 5, 4, 5, 5, 5, 4, 0, 4,\n",
       "       1, 0, 4, 5, 4, 4, 0, 0, 0, 0, 0, 5, 0, 0, 5, 0, 5, 5, 5, 5, 5, 5, 5,\n",
       "       0, 7, 4, 1, 0, 5, 4, 5, 0, 0, 5, 0, 0, 0, 0, 0, 4, 0, 4, 5, 5, 5, 1,\n",
       "       0, 0, 0, 4, 5, 5, 5, 5, 4, 5, 0, 0, 0, 0, 5, 5, 5, 5, 4, 0, 0, 5, 5,\n",
       "       5, 0, 5, 0, 5, 0, 0, 0, 0, 5, 0, 5, 5, 5, 5, 5, 5, 4, 5, 5, 0, 5, 4,\n",
       "       0, 5, 5, 5, 5, 5, 4, 5, 5, 5, 0, 0, 0, 5, 5, 4, 5, 5, 5, 5, 0, 4, 0,\n",
       "       0, 0, 5, 0, 0, 0, 0, 1, 5, 5, 4, 5, 0, 5, 5, 5, 0, 5, 5, 0, 5, 5, 5,\n",
       "       5, 5, 5, 5, 5, 0, 0, 5, 5, 0, 0, 5, 5, 0, 5, 5, 0, 5, 5, 5, 5, 5, 5,\n",
       "       0, 0, 5, 5, 0, 0, 5, 0, 5, 5, 5, 0, 0, 5, 0, 0, 5, 5, 5, 5, 5, 0, 0,\n",
       "       5, 5, 5, 5, 0, 5, 0, 5, 5, 5, 5, 5, 5, 0, 5, 5, 0, 5, 5, 5, 0, 0, 5,\n",
       "       5, 5, 5, 5, 5, 5, 5, 5, 5, 5, 5, 5, 0, 0, 5, 7, 4, 5, 5, 5, 5, 5, 5,\n",
       "       5, 7, 5, 5, 4, 5, 5, 5, 0, 0, 0, 5, 5, 5, 5, 5, 5, 5, 5, 5, 0, 5, 5,\n",
       "       5, 0, 5, 4, 1, 4, 5, 0, 7, 4, 7, 3, 5, 5, 4, 5, 7, 0, 5, 5, 5, 0, 5,\n",
       "       5, 4, 0, 5, 0, 5, 5, 6, 0, 5, 5, 0, 4, 5, 5, 0, 0, 5, 5, 5, 5, 0, 0,\n",
       "       5, 5, 5, 1, 5, 5])"
      ]
     },
     "execution_count": 9,
     "metadata": {},
     "output_type": "execute_result"
    }
   ],
   "source": [
    "kmeans.labels_"
   ]
  },
  {
   "cell_type": "code",
   "execution_count": 3,
   "metadata": {
    "collapsed": false
   },
   "outputs": [],
   "source": [
    "#Implement kmeans with CountVectorizer\n",
    "#def countVectorizer():\n",
    "vectorizer = CountVectorizer()\n",
    "text = vectorizer.fit_transform(dataframe.Text).toarray()\n",
    "pca = PCA(n_components=10)\n",
    "mod_text = pca.fit_transform(text)\n",
    "\n",
    "dataset = pd.DataFrame(mod_text)\n",
    "\n",
    "#-----Convert to categorical variable\n",
    "#dataset.Title = dataset.Title.astype('category')\n",
    "kMeansModel = KMeans(n_clusters=10)\n",
    "kmeans = kMeansModel.fit(dataset)"
   ]
  },
  {
   "cell_type": "code",
   "execution_count": 8,
   "metadata": {
    "collapsed": false
   },
   "outputs": [
    {
     "data": {
      "text/plain": [
       "466"
      ]
     },
     "execution_count": 8,
     "metadata": {},
     "output_type": "execute_result"
    }
   ],
   "source": [
    "text.shape\n",
    "len(dataframe)"
   ]
  },
  {
   "cell_type": "code",
   "execution_count": null,
   "metadata": {
    "collapsed": true
   },
   "outputs": [],
   "source": [
    "#Implement kmeans with FeatureHAsher\n",
    "#def countVectorizer():\n",
    "vectorizer = CountVectorizer()\n",
    "text = vectorizer.fit_transform(dataframe.Text).toarray()\n",
    "pca = PCA(n_components=10)\n",
    "mod_text = pca.fit_transform(text)\n",
    "\n",
    "dataset = pd.DataFrame(mod_text)\n",
    "\n",
    "#-----Convert to categorical variable\n",
    "#dataset.Title = dataset.Title.astype('category')\n",
    "kMeansModel = KMeans(n_clusters=10)\n",
    "kmeans = kMeansModel.fit(dataset)"
   ]
  },
  {
   "cell_type": "code",
   "execution_count": 19,
   "metadata": {
    "collapsed": false
   },
   "outputs": [],
   "source": [
    "result = pd.concat([dataframe[['Title','Category']],pd.DataFrame(kmeans.labels_)]\n",
    "                  ,axis = 1)\n",
    "result.columns = ['Title', 'Category', 'AssignedLabel']"
   ]
  },
  {
   "cell_type": "code",
   "execution_count": 18,
   "metadata": {
    "collapsed": false
   },
   "outputs": [
    {
     "data": {
      "text/plain": [
       "Index(['Title', 'Category', 0], dtype='object')"
      ]
     },
     "execution_count": 18,
     "metadata": {},
     "output_type": "execute_result"
    }
   ],
   "source": [
    "result.columns"
   ]
  },
  {
   "cell_type": "code",
   "execution_count": 25,
   "metadata": {
    "collapsed": false
   },
   "outputs": [
    {
     "data": {
      "text/plain": [
       "<matplotlib.collections.PathCollection at 0x258829ddb00>"
      ]
     },
     "execution_count": 25,
     "metadata": {},
     "output_type": "execute_result"
    },
    {
     "data": {
      "image/png": "[encoded data removed]",
      "text/plain": [
       "<matplotlib.figure.Figure at 0x258829c4278>"
      ]
     },
     "metadata": {},
     "output_type": "display_data"
    }
   ],
   "source": [
    "fig = plt.figure()\n",
    "ax = fig.add_subplot(111)\n",
    "\n",
    "result.Category = result.Category.astype(\"category\")\n",
    "ax.scatter(result.AssignedLabel,result.Category.cat.codes)\n",
    "\n"
   ]
  },
  {
   "cell_type": "code",
   "execution_count": 50,
   "metadata": {
    "collapsed": false
   },
   "outputs": [
    {
     "data": {
      "text/html": [
       "<div>\n",
       "<table border=\"1\" class=\"dataframe\">\n",
       "  <thead>\n",
       "    <tr style=\"text-align: right;\">\n",
       "      <th>AssignedLabel</th>\n",
       "      <th>0</th>\n",
       "      <th>1</th>\n",
       "      <th>2</th>\n",
       "      <th>3</th>\n",
       "      <th>4</th>\n",
       "      <th>5</th>\n",
       "      <th>6</th>\n",
       "      <th>7</th>\n",
       "      <th>8</th>\n",
       "      <th>9</th>\n",
       "    </tr>\n",
       "    <tr>\n",
       "      <th>Category</th>\n",
       "      <th></th>\n",
       "      <th></th>\n",
       "      <th></th>\n",
       "      <th></th>\n",
       "      <th></th>\n",
       "      <th></th>\n",
       "      <th></th>\n",
       "      <th></th>\n",
       "      <th></th>\n",
       "      <th></th>\n",
       "    </tr>\n",
       "  </thead>\n",
       "  <tbody>\n",
       "    <tr>\n",
       "      <th>Consumer Discretionary</th>\n",
       "      <td>26.0</td>\n",
       "      <td>7.0</td>\n",
       "      <td>NaN</td>\n",
       "      <td>1.0</td>\n",
       "      <td>10.0</td>\n",
       "      <td>27.0</td>\n",
       "      <td>1.0</td>\n",
       "      <td>4.0</td>\n",
       "      <td>NaN</td>\n",
       "      <td>NaN</td>\n",
       "    </tr>\n",
       "    <tr>\n",
       "      <th>Consumer Staples</th>\n",
       "      <td>11.0</td>\n",
       "      <td>4.0</td>\n",
       "      <td>NaN</td>\n",
       "      <td>NaN</td>\n",
       "      <td>8.0</td>\n",
       "      <td>11.0</td>\n",
       "      <td>NaN</td>\n",
       "      <td>1.0</td>\n",
       "      <td>NaN</td>\n",
       "      <td>NaN</td>\n",
       "    </tr>\n",
       "    <tr>\n",
       "      <th>Energy</th>\n",
       "      <td>15.0</td>\n",
       "      <td>2.0</td>\n",
       "      <td>NaN</td>\n",
       "      <td>NaN</td>\n",
       "      <td>4.0</td>\n",
       "      <td>22.0</td>\n",
       "      <td>NaN</td>\n",
       "      <td>1.0</td>\n",
       "      <td>NaN</td>\n",
       "      <td>NaN</td>\n",
       "    </tr>\n",
       "    <tr>\n",
       "      <th>Financials</th>\n",
       "      <td>31.0</td>\n",
       "      <td>1.0</td>\n",
       "      <td>2.0</td>\n",
       "      <td>NaN</td>\n",
       "      <td>8.0</td>\n",
       "      <td>34.0</td>\n",
       "      <td>NaN</td>\n",
       "      <td>2.0</td>\n",
       "      <td>NaN</td>\n",
       "      <td>NaN</td>\n",
       "    </tr>\n",
       "    <tr>\n",
       "      <th>Health Care</th>\n",
       "      <td>18.0</td>\n",
       "      <td>2.0</td>\n",
       "      <td>NaN</td>\n",
       "      <td>NaN</td>\n",
       "      <td>4.0</td>\n",
       "      <td>28.0</td>\n",
       "      <td>NaN</td>\n",
       "      <td>NaN</td>\n",
       "      <td>NaN</td>\n",
       "      <td>NaN</td>\n",
       "    </tr>\n",
       "    <tr>\n",
       "      <th>Industrials</th>\n",
       "      <td>16.0</td>\n",
       "      <td>2.0</td>\n",
       "      <td>NaN</td>\n",
       "      <td>4.0</td>\n",
       "      <td>9.0</td>\n",
       "      <td>28.0</td>\n",
       "      <td>NaN</td>\n",
       "      <td>NaN</td>\n",
       "      <td>NaN</td>\n",
       "      <td>NaN</td>\n",
       "    </tr>\n",
       "    <tr>\n",
       "      <th>Information Technology</th>\n",
       "      <td>12.0</td>\n",
       "      <td>8.0</td>\n",
       "      <td>NaN</td>\n",
       "      <td>NaN</td>\n",
       "      <td>12.0</td>\n",
       "      <td>20.0</td>\n",
       "      <td>NaN</td>\n",
       "      <td>5.0</td>\n",
       "      <td>1.0</td>\n",
       "      <td>1.0</td>\n",
       "    </tr>\n",
       "    <tr>\n",
       "      <th>Materials</th>\n",
       "      <td>6.0</td>\n",
       "      <td>3.0</td>\n",
       "      <td>1.0</td>\n",
       "      <td>NaN</td>\n",
       "      <td>3.0</td>\n",
       "      <td>17.0</td>\n",
       "      <td>NaN</td>\n",
       "      <td>NaN</td>\n",
       "      <td>NaN</td>\n",
       "      <td>NaN</td>\n",
       "    </tr>\n",
       "    <tr>\n",
       "      <th>Telecommunications Services</th>\n",
       "      <td>2.0</td>\n",
       "      <td>NaN</td>\n",
       "      <td>NaN</td>\n",
       "      <td>NaN</td>\n",
       "      <td>2.0</td>\n",
       "      <td>1.0</td>\n",
       "      <td>NaN</td>\n",
       "      <td>NaN</td>\n",
       "      <td>NaN</td>\n",
       "      <td>NaN</td>\n",
       "    </tr>\n",
       "    <tr>\n",
       "      <th>Utilities</th>\n",
       "      <td>10.0</td>\n",
       "      <td>1.0</td>\n",
       "      <td>NaN</td>\n",
       "      <td>NaN</td>\n",
       "      <td>1.0</td>\n",
       "      <td>16.0</td>\n",
       "      <td>NaN</td>\n",
       "      <td>NaN</td>\n",
       "      <td>NaN</td>\n",
       "      <td>NaN</td>\n",
       "    </tr>\n",
       "  </tbody>\n",
       "</table>\n",
       "</div>"
      ],
      "text/plain": [
       "AssignedLabel                   0    1    2    3     4     5    6    7    8  \\\n",
       "Category                                                                      \n",
       "Consumer Discretionary       26.0  7.0  NaN  1.0  10.0  27.0  1.0  4.0  NaN   \n",
       "Consumer Staples             11.0  4.0  NaN  NaN   8.0  11.0  NaN  1.0  NaN   \n",
       "Energy                       15.0  2.0  NaN  NaN   4.0  22.0  NaN  1.0  NaN   \n",
       "Financials                   31.0  1.0  2.0  NaN   8.0  34.0  NaN  2.0  NaN   \n",
       "Health Care                  18.0  2.0  NaN  NaN   4.0  28.0  NaN  NaN  NaN   \n",
       "Industrials                  16.0  2.0  NaN  4.0   9.0  28.0  NaN  NaN  NaN   \n",
       "Information Technology       12.0  8.0  NaN  NaN  12.0  20.0  NaN  5.0  1.0   \n",
       "Materials                     6.0  3.0  1.0  NaN   3.0  17.0  NaN  NaN  NaN   \n",
       "Telecommunications Services   2.0  NaN  NaN  NaN   2.0   1.0  NaN  NaN  NaN   \n",
       "Utilities                    10.0  1.0  NaN  NaN   1.0  16.0  NaN  NaN  NaN   \n",
       "\n",
       "AssignedLabel                  9  \n",
       "Category                          \n",
       "Consumer Discretionary       NaN  \n",
       "Consumer Staples             NaN  \n",
       "Energy                       NaN  \n",
       "Financials                   NaN  \n",
       "Health Care                  NaN  \n",
       "Industrials                  NaN  \n",
       "Information Technology       1.0  \n",
       "Materials                    NaN  \n",
       "Telecommunications Services  NaN  \n",
       "Utilities                    NaN  "
      ]
     },
     "execution_count": 50,
     "metadata": {},
     "output_type": "execute_result"
    }
   ],
   "source": [
    "tmp = (result.groupby(['Category','AssignedLabel']).count()).reset_index()\n",
    "tmp.head()\n",
    "tmp.pivot(index = \"Category\",columns=\"AssignedLabel\",values = \"Title\")"
   ]
  },
  {
   "cell_type": "raw",
   "metadata": {},
   "source": []
  }
 ],
 "metadata": {
  "anaconda-cloud": {},
  "kernelspec": {
   "display_name": "Python [Root]",
   "language": "python",
   "name": "Python [Root]"
  },
  "language_info": {
   "codemirror_mode": {
    "name": "ipython",
    "version": 3
   },
   "file_extension": ".py",
   "mimetype": "text/x-python",
   "name": "python",
   "nbconvert_exporter": "python",
   "pygments_lexer": "ipython3",
   "version": "3.5.4"
  }
 },
 "nbformat": 4,
 "nbformat_minor": 0
}
