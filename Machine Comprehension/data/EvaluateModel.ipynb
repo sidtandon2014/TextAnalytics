{
 "cells": [
  {
   "cell_type": "code",
   "execution_count": null,
   "metadata": {},
   "outputs": [],
   "source": [
    "import numpy as np\n",
    "import tensorflow as tf\n",
    "from tqdm import trange\n",
    "import logging\n",
    "import os\n",
    "%run \"./utils.py\"\n",
    "\n",
    "params = {\n",
    "    \"max_query_words\": 12,\n",
    "    \"max_passage_words\": 50,\n",
    "    \"emb_dim\": 50,\n",
    "    \"BATCH_SIZE\": 1000,\n",
    "    \"EPOCHS\" : 200,  #Total number of epochs to run\n",
    "    \"BatchesPerEpoch\": 10000,\n",
    "    \"num_classes\": 2,\n",
    "    \"save_summary_steps\": 100\n",
    "}"
   ]
  },
  {
   "cell_type": "code",
   "execution_count": null,
   "metadata": {},
   "outputs": [],
   "source": [
    "#-----------------Main function\n",
    "\n",
    "tf.reset_default_graph()\n",
    "eval_model_spec = model_fn(\"eval\",\"./evalUnlabelledEmbeddings.tfrecords\",params)\n",
    "logging.info(\"Starting training for {} epoch(s)\".format(params[\"EPOCHS\"]))\n",
    "evaluate(eval_model_spec, \"./ModelLogs\", params,\"best_weights\")"
   ]
  }
 ],
 "metadata": {
  "kernelspec": {
   "display_name": "Python 3",
   "language": "python",
   "name": "python3"
  },
  "language_info": {
   "codemirror_mode": {
    "name": "ipython",
    "version": 3
   },
   "file_extension": ".py",
   "mimetype": "text/x-python",
   "name": "python",
   "nbconvert_exporter": "python",
   "pygments_lexer": "ipython3",
   "version": "3.6.5"
  }
 },
 "nbformat": 4,
 "nbformat_minor": 2
}
