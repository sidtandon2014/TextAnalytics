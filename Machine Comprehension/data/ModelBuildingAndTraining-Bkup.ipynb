{
 "cells": [
  {
   "cell_type": "code",
   "execution_count": 1,
   "metadata": {},
   "outputs": [
    {
     "name": "stderr",
     "output_type": "stream",
     "text": [
      "C:\\Users\\sitandon\\AppData\\Local\\Continuum\\anaconda3\\lib\\site-packages\\h5py\\__init__.py:36: FutureWarning: Conversion of the second argument of issubdtype from `float` to `np.floating` is deprecated. In future, it will be treated as `np.float64 == np.dtype(float).type`.\n",
      "  from ._conv import register_converters as _register_converters\n"
     ]
    }
   ],
   "source": [
    "import numpy as np\n",
    "import tensorflow as tf\n",
    "from tqdm import trange \n",
    "import logging\n",
    "import os\n",
    "import pandas as pd\n",
    "%run \"./utils.py\"\n",
    "\n",
    "params = {\n",
    "    \"max_query_words\": 12,\n",
    "    \"max_passage_words\": 50,\n",
    "    \"emb_dim\": 50,\n",
    "    \"BATCH_SIZE\": 500,\n",
    "    \"EPOCHS\" : 200,  #Total number of epochs to run\n",
    "    \"BatchesPerEpoch\": 1000,\n",
    "    \"num_classes\": 2,\n",
    "    \"save_summary_steps\": 100,\n",
    "    \"TEST_BATCH_SIZE\": 1000,\n",
    "    \"SHUFFLE_BATCH_SIZE\": 10000\n",
    "}"
   ]
  },
  {
   "cell_type": "code",
   "execution_count": 2,
   "metadata": {},
   "outputs": [],
   "source": [
    "def cnn_network(queryfeatures, passagefeatures,reuse = False):\n",
    "    \n",
    "    #queryfeatures = tf.placeholder(tf.float32,shape=(None,max_query_words * emb_dim))\n",
    "    #passagefeatures = tf.placeholder(tf.float32,shape=(None,max_passage_words * emb_dim))\n",
    "    \n",
    "    #global max_passage_words,max_query_words,emb_dim,num_classes\n",
    "\n",
    "    def conv2D(x,W,strides):\n",
    "        return tf.nn.conv2d(x,W,strides=strides,padding='VALID',name=\"conv2D\")\n",
    "\n",
    "    def maxPooling(x,k):\n",
    "        return tf.nn.max_pool(x, ksize=[1, k, k, 1], strides=[1, k, k, 1],padding='VALID',name = \"maxPool\")\n",
    "\n",
    "    def getWeight(shape):\n",
    "        return tf.get_variable(name = \"weight\",shape = shape, initializer=tf.initializers.truncated_normal(stddev= 0.1))\n",
    "\n",
    "    def getBias(shape):\n",
    "        return tf.get_variable(name = \"bias\",shape = shape, initializer=tf.initializers.constant(0.1))\n",
    "\n",
    "    with tf.variable_scope('query/convLayer1'):\n",
    "        #------Filter: [filter_height, filter_width, in_channels, out_channels]\n",
    "        with tf.variable_scope('shared',reuse=reuse):\n",
    "            weight = getWeight([3,10,1,4])\n",
    "            bias = getBias([4])\n",
    "        #------Input: [batch, in_height, in_width, in_channels]\n",
    "        #x_query = tf.reshape(queryfeatures,[-1,max_query_words,emb_dim,1], name=\"ReshapeInputOp\")  #input: ?,12,50,1\n",
    "        #------Stride [batch,height,width,channel]\n",
    "        convQuery1 = tf.nn.relu(conv2D(queryfeatures,weight,[1,1,1,1]) + bias)\n",
    "        convQuery1_max = maxPooling(convQuery1,k = 2)\n",
    "\n",
    "    with tf.variable_scope('query/convLayer2'):\n",
    "        with tf.variable_scope('shared',reuse=reuse):\n",
    "            weight = getWeight([2,4,4,2])\n",
    "            bias = getBias([2])\n",
    "        convQuery2 = tf.nn.relu(conv2D(convQuery1_max,weight,[1,1,1,1]) + bias)\n",
    "        convQuery2_max = maxPooling(convQuery2,k = 2)\n",
    "        print(convQuery2_max)\n",
    "\n",
    "    with tf.variable_scope('query/denseLayer3'):\n",
    "        with tf.variable_scope('shared',reuse=reuse):\n",
    "            weight = getWeight([2*8*2,10])\n",
    "            bias = getBias([10])\n",
    "        dense = tf.reshape(convQuery2_max,[-1,2*8*2])\n",
    "        denseQuery3 = tf.nn.relu(tf.matmul(dense,weight) + bias)\n",
    "\n",
    "    with tf.variable_scope('passage/convLayer1'):\n",
    "        with tf.variable_scope('shared',reuse=reuse):\n",
    "            weight = getWeight([5,10,1,4])\n",
    "            bias = getBias([4])\n",
    "        #x_passage = tf.reshape(passagefeatures,[-1,max_passage_words,emb_dim,1])\n",
    "        convPassage1 = tf.nn.relu(conv2D(passagefeatures,weight,[1,1,1,1]) + bias)\n",
    "        convPassage1_max = maxPooling(convPassage1,k = 2)\n",
    "\n",
    "\n",
    "    with tf.variable_scope('passage/convLayer2'):\n",
    "        with tf.variable_scope('shared',reuse=reuse):\n",
    "            weight = getWeight([3,10,4,4])\n",
    "            bias = getBias([4])\n",
    "        convPassage2 = tf.nn.relu(conv2D(convPassage1_max,weight,[1,1,1,1]) + bias)\n",
    "        convPassage2_max = maxPooling(convPassage2,k = 2)\n",
    "\n",
    "    with tf.variable_scope('passage/denseLayer3'):\n",
    "        with tf.variable_scope('shared',reuse=reuse):\n",
    "            weight = getWeight([10*5*4,10])\n",
    "            bias = getBias([10])\n",
    "        densePassage = tf.reshape(convPassage2_max,[-1,10*5*4])\n",
    "        densePassage3 = tf.nn.relu(tf.matmul(densePassage,weight) + bias)\n",
    "\n",
    "    with tf.variable_scope('mergeQueryPassage'):\n",
    "        with tf.variable_scope('shared',reuse=reuse):\n",
    "            weight = getWeight([10,2])\n",
    "            bias = getBias([2])\n",
    "        \n",
    "        mergeOp = tf.multiply(denseQuery3,densePassage3, name = \"merge\")\n",
    "        mergeDense = tf.nn.relu(tf.matmul(mergeOp,weight) + bias)\n",
    "\n",
    "    return mergeDense\n",
    "    "
   ]
  },
  {
   "cell_type": "code",
   "execution_count": 3,
   "metadata": {},
   "outputs": [],
   "source": [
    "def modelTest_fn(mode,embeddingsFile,params):    \n",
    "    #--------Hyper parameters:\n",
    "    max_query_words = params[\"max_query_words\"]\n",
    "    max_passage_words = params[\"max_passage_words\"]\n",
    "    emb_dim = params[\"emb_dim\"]\n",
    "    BATCH_SIZE = params[\"TEST_BATCH_SIZE\"]\n",
    "    EPOCHS = params[\"EPOCHS\"]\n",
    "    BatchesPerEpoch = params[\"BatchesPerEpoch\"]\n",
    "    num_classes = params[\"num_classes\"]\n",
    "    \n",
    "    is_training = (mode == \"train\")\n",
    "    \n",
    "    def testDSParser(example_proto):\n",
    "        features = {\"query\": tf.FixedLenFeature((max_query_words,emb_dim,1), tf.float32),\n",
    "                  \"passage\": tf.FixedLenFeature((max_passage_words,emb_dim,1), tf.float32),\n",
    "                  \"query_id\": tf.FixedLenFeature((1), tf.int64),\n",
    "                  \"passage_id\": tf.FixedLenFeature((1), tf.int64)}\n",
    "        parsed_features = tf.parse_single_example(example_proto, features)\n",
    "        return parsed_features[\"query\"], parsed_features[\"passage\"],parsed_features[\"query_id\"],parsed_features[\"passage_id\"]\n",
    "    \n",
    "    def getDatasetIterator(fileName,batch_size,mode):\n",
    "        dataset = tf.data.TFRecordDataset(filenames = fileName, compression_type=\"ZLIB\")\n",
    "        #------Follow this order: map -> prefetch -> batch\n",
    "        dataset = dataset.map(testDSParser)\n",
    "        dataset = dataset.batch(batch_size)\n",
    "        \n",
    "        iterator = dataset.make_initializable_iterator()\n",
    "        return iterator\n",
    "    \n",
    "    iterator = getDatasetIterator(embeddingsFile,BATCH_SIZE,mode)\n",
    "    \n",
    "    queryfeatures,passagefeatures,query_id,passage_id = iterator.get_next()\n",
    "    \n",
    "    model_spec =     {\n",
    "        'queryfeatures': queryfeatures,\n",
    "        'passagefeatures': passagefeatures,\n",
    "        'iterator_init_op': iterator.initializer,\n",
    "        \"query_id\":query_id,\n",
    "        \"passage_id\": passage_id\n",
    "    }\n",
    "    \n",
    "    with tf.variable_scope('model'):\n",
    "        y_conv = cnn_network(queryfeatures,passagefeatures,reuse = False)\n",
    "    \n",
    "    # -----------------------------------------------------------\n",
    "    # MODEL SPECIFICATION\n",
    "    # Create the model specification and return it\n",
    "    # It contains nodes or operations in the graph that will be used for training and evaluation\n",
    "    variable_init_op = tf.group(*[tf.global_variables_initializer()])\n",
    "    model_spec['variable_init_op'] = variable_init_op\n",
    "    model_spec[\"predictions\"] = y_conv\n",
    "    model_spec['summary_op'] = tf.summary.merge_all()\n",
    "\n",
    "    \n",
    "    return model_spec"
   ]
  },
  {
   "cell_type": "code",
   "execution_count": 12,
   "metadata": {},
   "outputs": [],
   "source": [
    "def model_fn(mode,embeddingsFile,params):    \n",
    "    #--------Hyper parameters:\n",
    "    max_query_words = params[\"max_query_words\"]\n",
    "    max_passage_words = params[\"max_passage_words\"]\n",
    "    emb_dim = params[\"emb_dim\"]\n",
    "    BATCH_SIZE = params[\"BATCH_SIZE\"]\n",
    "    EPOCHS = params[\"EPOCHS\"]\n",
    "    BatchesPerEpoch = params[\"BatchesPerEpoch\"]\n",
    "    num_classes = params[\"num_classes\"]\n",
    "    \n",
    "    is_training = (mode == \"train\")\n",
    "    \n",
    "    def parser(example_proto):\n",
    "        features = {\"query\": tf.FixedLenFeature((max_query_words,emb_dim,1), tf.float32),\n",
    "                  \"passage\": tf.FixedLenFeature((max_passage_words,emb_dim,1), tf.float32),\n",
    "                  \"label\": tf.FixedLenFeature((num_classes), tf.int64)}\n",
    "        parsed_features = tf.parse_single_example(example_proto, features)\n",
    "        return parsed_features[\"query\"], parsed_features[\"passage\"],parsed_features[\"label\"]\n",
    "    \n",
    "    def getDatasetIterator(fileName,batch_size,mode):\n",
    "        buffer_size = 4 * batch_size\n",
    "        dataset = tf.data.TFRecordDataset(filenames = fileName, compression_type=\"ZLIB\").shuffle(buffer_size = buffer_size)\n",
    "        #------Follow this order: map -> prefetch -> batch\n",
    "        dataset = dataset.map(parser)\n",
    "        dataset = dataset.batch(batch_size)\n",
    "        dataset = dataset.prefetch(1)\n",
    "        iterator = dataset.make_initializable_iterator()\n",
    "        return iterator\n",
    "    \n",
    "    #queryfeatures = tf.placeholder(tf.float32,shape=(None,max_query_words, emb_dim,1))\n",
    "    #passagefeatures = tf.placeholder(tf.float32,shape=(None,max_passage_words,emb_dim,1))\n",
    "    #y = tf.placeholder(tf.int16,shape = (None,num_classes))\n",
    "    \n",
    "    iterator = getDatasetIterator(embeddingsFile,BATCH_SIZE,mode)\n",
    "    \n",
    "    queryfeatures,passagefeatures,y = iterator.get_next()\n",
    "    #print(queryfeatures)\n",
    "    \n",
    "    model_spec =     {\n",
    "        'queryfeatures': queryfeatures,\n",
    "        'passagefeatures': passagefeatures,\n",
    "        'iterator_init_op': iterator.initializer,\n",
    "        \"y\":y\n",
    "    }\n",
    "    \n",
    "    with tf.variable_scope('model'):\n",
    "        y_conv = cnn_network(queryfeatures,passagefeatures,reuse = not is_training)\n",
    "    \n",
    "    with tf.variable_scope('lossPerBatch'):\n",
    "        cross_entropy = tf.reduce_mean(tf.losses.softmax_cross_entropy(onehot_labels=y,logits=y_conv))\n",
    "        tf.summary.scalar('lossPerBatch', cross_entropy)\n",
    "\n",
    "    if is_training:\n",
    "        with tf.name_scope('AdamOptim'):\n",
    "            global_step = tf.train.get_or_create_global_step()\n",
    "            train_step = tf.train.AdamOptimizer(1e-4).minimize(loss = cross_entropy,global_step=global_step)\n",
    "\n",
    "    correct_pred = tf.equal(tf.argmax(y_conv,1),tf.argmax(y,1))\n",
    "    accuracy = tf.reduce_mean(tf.cast(correct_pred,tf.float32))\n",
    "    tf.summary.scalar('accuracyPerBatch', accuracy)\n",
    "    \n",
    "    \n",
    "    # -----------------------------------------------------------\n",
    "    # METRICS AND SUMMARIES\n",
    "    # Metrics for evaluation using tf.metrics (average over whole dataset)\n",
    "    with tf.variable_scope(\"metrics\"):\n",
    "        metrics = {\n",
    "            'accuracy': tf.metrics.accuracy(labels=tf.argmax(y,-1), predictions=tf.argmax(y_conv,-1)),\n",
    "            'loss': tf.metrics.mean(cross_entropy)\n",
    "        }\n",
    "    \n",
    "    # Group the update ops for the tf.metrics\n",
    "    update_metrics_op = tf.group(*[op for _, op in metrics.values()])\n",
    "\n",
    "    # Get the op to reset the local variables used in tf.metrics\n",
    "    metric_variables = tf.get_collection(tf.GraphKeys.LOCAL_VARIABLES, scope=\"metrics\")\n",
    "    metrics_init_op = tf.variables_initializer(metric_variables)\n",
    "    \n",
    "    \n",
    "    # -----------------------------------------------------------\n",
    "    # MODEL SPECIFICATION\n",
    "    # Create the model specification and return it\n",
    "    # It contains nodes or operations in the graph that will be used for training and evaluation\n",
    "    variable_init_op = tf.group(*[tf.global_variables_initializer()])\n",
    "    model_spec['variable_init_op'] = variable_init_op\n",
    "    model_spec[\"predictions\"] = y_conv\n",
    "    model_spec['loss'] = cross_entropy\n",
    "    model_spec['accuracy'] = accuracy\n",
    "    model_spec['metrics_init_op'] = metrics_init_op\n",
    "    model_spec['metrics'] = metrics\n",
    "    model_spec['update_metrics'] = update_metrics_op\n",
    "    model_spec['summary_op'] = tf.summary.merge_all()\n",
    "\n",
    "    if is_training:\n",
    "        model_spec['train_op'] = train_step\n",
    "    \n",
    "    return model_spec"
   ]
  },
  {
   "cell_type": "code",
   "execution_count": 19,
   "metadata": {},
   "outputs": [],
   "source": [
    "def train_sess(sess, model_spec, num_steps, writer, params):\n",
    "    \"\"\"Train the model on `num_steps` batches\n",
    "\n",
    "    Args:\n",
    "        sess: (tf.Session) current session\n",
    "        model_spec: (dict) contains the graph operations or nodes needed for training\n",
    "        num_steps: (int) train for this number of batches\n",
    "        writer: (tf.summary.FileWriter) writer for summaries\n",
    "        params: (Params) hyperparameters\n",
    "    \"\"\"\n",
    "    # Get relevant graph operations or nodes needed for training\n",
    "    loss = model_spec['loss']\n",
    "    train_op = model_spec['train_op']\n",
    "    update_metrics = model_spec['update_metrics']\n",
    "    metrics = model_spec['metrics']\n",
    "    summary_op = model_spec['summary_op']\n",
    "    y_conv = model_spec[\"predictions\"]\n",
    "    global_step = tf.train.get_global_step()\n",
    "\n",
    "    # Load the training dataset into the pipeline and initialize the metrics local variables\n",
    "    sess.run(model_spec['iterator_init_op'])\n",
    "    sess.run(model_spec['metrics_init_op'])\n",
    "\n",
    "    # Use tqdm for progress bar\n",
    "    t = trange(num_steps)\n",
    "    for i in t:\n",
    "        # Evaluate summaries for tensorboard only once in a while\n",
    "        if i % params[\"save_summary_steps\"] == 0:\n",
    "            # Perform a mini-batch update\n",
    "            _, _, loss_val, summ, global_step_val = sess.run([train_op, update_metrics, loss,summary_op, global_step])\n",
    "            # Write summaries for tensorboard\n",
    "            print(\"Global Step: \",global_step_val)\n",
    "            writer.add_summary(summ, global_step_val)\n",
    "        else:\n",
    "            _, _, loss_val = sess.run([train_op, update_metrics, loss])\n",
    "        # Log the loss in the tqdm progress bar\n",
    "        t.set_postfix(loss='{:05.3f}'.format(loss_val))\n",
    "        print(\"Predictions\",sess.run([y_conv[0:10,]]))\n",
    "\n",
    "    metrics_values = {k: v[0] for k, v in metrics.items()}\n",
    "    metrics_val = sess.run(metrics_values)\n",
    "    metrics_string = \" ; \".join(\"{}: {:05.3f}\".format(k, v) for k, v in metrics_val.items())\n",
    "    logging.info(\"- Train metrics: \" + metrics_string)"
   ]
  },
  {
   "cell_type": "code",
   "execution_count": 6,
   "metadata": {},
   "outputs": [],
   "source": [
    "def evaluate_sess(sess, model_spec, num_steps, writer=None, params=None):\n",
    "    \"\"\"Train the model on `num_steps` batches.\n",
    "\n",
    "    Args:\n",
    "        sess: (tf.Session) current session\n",
    "        model_spec: (dict) contains the graph operations or nodes needed for training\n",
    "        num_steps: (int) train for this number of batches\n",
    "        writer: (tf.summary.FileWriter) writer for summaries. Is None if we don't log anything\n",
    "        params: (Params) hyperparameters\n",
    "    \"\"\"\n",
    "    update_metrics = model_spec['update_metrics']\n",
    "    eval_metrics = model_spec['metrics']\n",
    "    global_step = tf.train.get_global_step()\n",
    "\n",
    "    # Load the evaluation dataset into the pipeline and initialize the metrics init op\n",
    "    sess.run(model_spec['iterator_init_op'])\n",
    "    sess.run(model_spec['metrics_init_op'])\n",
    "\n",
    "    # compute metrics over the dataset\n",
    "    for _ in range(num_steps):\n",
    "        sess.run(update_metrics)\n",
    "\n",
    "    # Get the values of the metrics\n",
    "    metrics_values = {k: v[0] for k, v in eval_metrics.items()}\n",
    "    metrics_val = sess.run(metrics_values)\n",
    "    metrics_string = \" ; \".join(\"{}: {:05.3f}\".format(k, v) for k, v in metrics_val.items())\n",
    "    logging.info(\"- Eval metrics: \" + metrics_string)\n",
    "\n",
    "    # Add summaries manually to writer at global_step_val\n",
    "    if writer is not None:\n",
    "        global_step_val = sess.run(global_step)\n",
    "        for tag, val in metrics_val.items():\n",
    "            summ = tf.Summary(value=[tf.Summary.Value(tag=tag, simple_value=val)])\n",
    "            writer.add_summary(summ, global_step_val)\n",
    "\n",
    "    return metrics_val"
   ]
  },
  {
   "cell_type": "code",
   "execution_count": 7,
   "metadata": {},
   "outputs": [],
   "source": [
    "def evaluate(model_spec, model_dir, params, restore_from):\n",
    "    import pandas as pd\n",
    "    \"\"\"Evaluate the model\n",
    "\n",
    "    Args:\n",
    "        model_spec: (dict) contains the graph operations or nodes needed for evaluation\n",
    "        model_dir: (string) directory containing config, weights and log\n",
    "        params: (Params) contains hyperparameters of the model.\n",
    "                Must define: num_epochs, train_size, batch_size, eval_size, save_summary_steps\n",
    "        restore_from: (string) directory or file containing weights to restore the graph\n",
    "    \"\"\"\n",
    "    # Initialize tf.Saver\n",
    "    saver = tf.train.Saver()\n",
    "    \n",
    "    df = pd.DataFrame()\n",
    "    with tf.Session() as sess:\n",
    "        # Initialize the lookup table\n",
    "        #sess.run(model_spec['variable_init_op'])\n",
    "        # Reload weights from the weights subdirectory\n",
    "        save_path = os.path.join(model_dir, restore_from)\n",
    "        if os.path.isdir(save_path):\n",
    "            save_path = tf.train.latest_checkpoint(save_path)\n",
    "        saver.restore(sess, save_path)\n",
    "        \n",
    "        sess.run(model_spec['iterator_init_op'])\n",
    "        totalBatches = (104170//params[\"TEST_BATCH_SIZE\"]) + 1\n",
    "        \n",
    "        for index in range(totalBatches):        \n",
    "            predictions,query_id,passage_id = sess.run([model_spec[\"predictions\"],model_spec[\"query_id\"],model_spec[\"passage_id\"]])\n",
    "            \n",
    "            tmp = pd.DataFrame({\"query_id\":query_id[:,0],\"passage_id\":passage_id[:,0],\"predictions\":predictions[:,1]})\n",
    "            df = pd.concat([df,tmp],axis = 0)\n",
    "            #print(query_id[0:100])\n",
    "    \n",
    "    return df"
   ]
  },
  {
   "cell_type": "code",
   "execution_count": 8,
   "metadata": {},
   "outputs": [],
   "source": [
    "def train_and_evaluate(train_model_spec, eval_model_spec, model_dir, params):\n",
    "    \"\"\"Train the model and evaluate every epoch.\n",
    "\n",
    "    Args:\n",
    "        train_model_spec: (dict) contains the graph operations or nodes needed for training\n",
    "        eval_model_spec: (dict) contains the graph operations or nodes needed for evaluation\n",
    "        model_dir: (string) directory containing config, weights and log\n",
    "        params: (Params) contains hyperparameters of the model.\n",
    "                Must define: num_epochs, train_size, batch_size, eval_size, save_summary_steps\n",
    "        restore_from: (string) directory or file containing weights to restore the graph\n",
    "    \"\"\"\n",
    "    \n",
    "    max_query_words = params[\"max_query_words\"]\n",
    "    max_passage_words = params[\"max_passage_words\"]\n",
    "    emb_dim = params[\"emb_dim\"]\n",
    "    BATCH_SIZE = params[\"BATCH_SIZE\"]\n",
    "    EPOCHS = params[\"EPOCHS\"]\n",
    "    BatchesPerEpoch = params[\"BatchesPerEpoch\"]\n",
    "    num_classes = params[\"num_classes\"]\n",
    "    \n",
    "    # Initialize tf.Saver instances to save weights during training\n",
    "    last_saver = tf.train.Saver() # will keep last 5 epochs\n",
    "    best_saver = tf.train.Saver(max_to_keep=1)  # only keep 1 best checkpoint (best on eval)\n",
    "    begin_at_epoch = 0\n",
    "    \n",
    "    with tf.Session() as sess:\n",
    "        # Initialize model variables\n",
    "        sess.run(train_model_spec['variable_init_op'])\n",
    "\n",
    "        # For tensorboard (takes care of writing summaries to files)\n",
    "        train_writer = tf.summary.FileWriter(os.path.join(model_dir, 'train_summaries'), sess.graph)\n",
    "        eval_writer = tf.summary.FileWriter(os.path.join(model_dir, 'eval_summaries'), sess.graph)\n",
    "\n",
    "        best_eval_acc = 0.0\n",
    "        for epoch in range(EPOCHS):\n",
    "            # Run one epoch\n",
    "            logging.info(\"Epoch {}/{}\".format(epoch + 1, EPOCHS))\n",
    "            \n",
    "            train_sess(sess, train_model_spec, BatchesPerEpoch, train_writer, params)\n",
    "\n",
    "            # Save weights\n",
    "            last_save_path = os.path.join(model_dir, 'last_weights', 'after-epoch')\n",
    "            last_saver.save(sess, last_save_path, global_step=epoch + 1)\n",
    "\n",
    "            metrics = evaluate_sess(sess, eval_model_spec, 1, eval_writer)\n",
    "\n",
    "            # If best_eval, best_save_path\n",
    "            eval_acc = metrics['accuracy']\n",
    "            if eval_acc >= best_eval_acc:\n",
    "                # Store new best accuracy\n",
    "                best_eval_acc = eval_acc\n",
    "                # Save weights\n",
    "                best_save_path = os.path.join(model_dir, 'best_weights', 'after-epoch')\n",
    "                best_save_path = best_saver.save(sess, best_save_path, global_step=epoch + 1)\n",
    "                logging.info(\"- Found new best accuracy, saving in {}\".format(best_save_path))\n",
    "                # Save best eval metrics in a json file in the model directory\n",
    "                best_json_path = os.path.join(model_dir, \"metrics_eval_best_weights.json\")\n",
    "                save_dict_to_json(metrics, best_json_path)\n",
    "\n",
    "            # Save latest eval metrics in a json file in the model directory\n",
    "            last_json_path = os.path.join(model_dir, \"metrics_eval_last_weights.json\")\n",
    "            save_dict_to_json(metrics, last_json_path)"
   ]
  },
  {
   "cell_type": "code",
   "execution_count": 20,
   "metadata": {},
   "outputs": [
    {
     "name": "stdout",
     "output_type": "stream",
     "text": [
      "Tensor(\"model/query/convLayer2/maxPool:0\", shape=(?, 2, 8, 2), dtype=float32)\n",
      "Tensor(\"model_1/query/convLayer2/maxPool:0\", shape=(?, 2, 8, 2), dtype=float32)\n"
     ]
    },
    {
     "name": "stderr",
     "output_type": "stream",
     "text": [
      "\n",
      "\n",
      "\n",
      "\n",
      "\n",
      "  0%|                                                                                            | 0/1000 [00:00<?, ?it/s]"
     ]
    },
    {
     "name": "stdout",
     "output_type": "stream",
     "text": [
      "Global Step:  0\n"
     ]
    },
    {
     "name": "stderr",
     "output_type": "stream",
     "text": [
      "\n",
      "\n",
      "\n",
      "\n",
      "\n",
      "  0%|                                                                                | 0/1000 [00:00<?, ?it/s, loss=0.671]"
     ]
    },
    {
     "name": "stdout",
     "output_type": "stream",
     "text": [
      "Predictions [array([[0.15584895, 0.08165452],\n",
      "       [0.15936944, 0.08062461],\n",
      "       [0.14658819, 0.10190961],\n",
      "       [0.14653747, 0.09895856],\n",
      "       [0.16198692, 0.10846816],\n",
      "       [0.1523965 , 0.10335493],\n",
      "       [0.17963877, 0.12931609],\n",
      "       [0.15435189, 0.08586035],\n",
      "       [0.15851013, 0.08492937],\n",
      "       [0.13694662, 0.0864806 ]], dtype=float32)]\n"
     ]
    },
    {
     "name": "stderr",
     "output_type": "stream",
     "text": [
      "\n",
      "\n",
      "\n",
      "\n",
      "\n",
      "  0%|                                                                        | 1/1000 [00:00<11:14,  1.48it/s, loss=0.671]\n",
      "\n",
      "\n",
      "\n",
      "\n",
      "  0%|                                                                        | 1/1000 [00:00<11:14,  1.48it/s, loss=0.672]"
     ]
    },
    {
     "name": "stdout",
     "output_type": "stream",
     "text": [
      "Predictions [array([[0.15600099, 0.09677782],\n",
      "       [0.1474099 , 0.10524456],\n",
      "       [0.15525709, 0.10395895],\n",
      "       [0.14389274, 0.10041074],\n",
      "       [0.14651003, 0.10773011],\n",
      "       [0.16337986, 0.10982665],\n",
      "       [0.14586236, 0.1106291 ],\n",
      "       [0.1532989 , 0.11444686],\n",
      "       [0.13993207, 0.09834953],\n",
      "       [0.1491893 , 0.08395373]], dtype=float32)]\n"
     ]
    },
    {
     "name": "stderr",
     "output_type": "stream",
     "text": [
      "\n",
      "\n",
      "\n",
      "\n",
      "\n",
      "  0%|▏                                                                       | 2/1000 [00:01<09:38,  1.73it/s, loss=0.672]\n",
      "\n",
      "\n",
      "\n",
      "\n",
      "  0%|▏                                                                       | 2/1000 [00:01<09:38,  1.73it/s, loss=0.672]"
     ]
    },
    {
     "name": "stdout",
     "output_type": "stream",
     "text": [
      "Predictions [array([[0.14791816, 0.1078626 ],\n",
      "       [0.15716034, 0.073115  ],\n",
      "       [0.14750873, 0.08798581],\n",
      "       [0.1509644 , 0.08523634],\n",
      "       [0.14832833, 0.09813641],\n",
      "       [0.16134638, 0.11041585],\n",
      "       [0.15059066, 0.09807662],\n",
      "       [0.12994878, 0.10044149],\n",
      "       [0.15060467, 0.07686725],\n",
      "       [0.15486771, 0.09723409]], dtype=float32)]\n"
     ]
    },
    {
     "name": "stderr",
     "output_type": "stream",
     "text": [
      "\n",
      "\n",
      "\n",
      "\n",
      "\n",
      "  0%|▏                                                                       | 3/1000 [00:01<07:56,  2.09it/s, loss=0.672]\n",
      "\n",
      "\n",
      "\n",
      "\n",
      "  0%|▏                                                                       | 3/1000 [00:01<07:56,  2.09it/s, loss=0.671]"
     ]
    },
    {
     "name": "stdout",
     "output_type": "stream",
     "text": [
      "Predictions [array([[0.18012866, 0.06728661],\n",
      "       [0.1527764 , 0.08019216],\n",
      "       [0.1501334 , 0.09108946],\n",
      "       [0.1358874 , 0.10165055],\n",
      "       [0.17506629, 0.08878846],\n",
      "       [0.14089076, 0.07801491],\n",
      "       [0.14580289, 0.09564903],\n",
      "       [0.1515643 , 0.08827799],\n",
      "       [0.16764686, 0.08066549],\n",
      "       [0.1372332 , 0.11001568]], dtype=float32)]\n"
     ]
    },
    {
     "name": "stderr",
     "output_type": "stream",
     "text": [
      "\n",
      "\n",
      "\n",
      "\n",
      "\n",
      "  0%|▎                                                                       | 4/1000 [00:01<06:45,  2.46it/s, loss=0.671]\n",
      "\n",
      "\n",
      "\n",
      "\n",
      "  0%|▎                                                                       | 4/1000 [00:01<06:45,  2.46it/s, loss=0.669]"
     ]
    },
    {
     "name": "stdout",
     "output_type": "stream",
     "text": [
      "Predictions [array([[0.1507433 , 0.09722503],\n",
      "       [0.19314983, 0.0790092 ],\n",
      "       [0.1328191 , 0.10159724],\n",
      "       [0.14437705, 0.10994571],\n",
      "       [0.15085524, 0.08930016],\n",
      "       [0.1469161 , 0.10963883],\n",
      "       [0.14210692, 0.10173015],\n",
      "       [0.15942813, 0.08088921],\n",
      "       [0.15704474, 0.12655531],\n",
      "       [0.14831825, 0.09567196]], dtype=float32)]\n"
     ]
    },
    {
     "name": "stderr",
     "output_type": "stream",
     "text": [
      "\n",
      "\n",
      "\n",
      "\n",
      "\n",
      "  0%|▎                                                                       | 5/1000 [00:01<05:53,  2.81it/s, loss=0.669]\n",
      "\n",
      "\n",
      "\n",
      "\n",
      "  0%|▎                                                                       | 5/1000 [00:01<05:53,  2.81it/s, loss=0.670]"
     ]
    },
    {
     "name": "stdout",
     "output_type": "stream",
     "text": [
      "Predictions [array([[0.17079948, 0.07054257],\n",
      "       [0.16511372, 0.09811972],\n",
      "       [0.16178843, 0.08111774],\n",
      "       [0.1453031 , 0.09072288],\n",
      "       [0.16648988, 0.10842337],\n",
      "       [0.13489386, 0.09201527],\n",
      "       [0.16857183, 0.09032601],\n",
      "       [0.16972789, 0.07795252],\n",
      "       [0.18231405, 0.09801817],\n",
      "       [0.16818503, 0.08949476]], dtype=float32)]\n"
     ]
    },
    {
     "name": "stderr",
     "output_type": "stream",
     "text": [
      "\n",
      "\n",
      "\n",
      "\n",
      "\n",
      "  1%|▍                                                                       | 6/1000 [00:01<05:20,  3.11it/s, loss=0.670]\n",
      "\n",
      "\n",
      "\n",
      "\n",
      "  1%|▍                                                                       | 6/1000 [00:02<05:20,  3.11it/s, loss=0.667]"
     ]
    },
    {
     "name": "stdout",
     "output_type": "stream",
     "text": [
      "Predictions [array([[0.13312566, 0.10365091],\n",
      "       [0.14456522, 0.08635337],\n",
      "       [0.12781087, 0.11441205],\n",
      "       [0.1445146 , 0.10141145],\n",
      "       [0.14622894, 0.10107593],\n",
      "       [0.18708709, 0.07598588],\n",
      "       [0.15447983, 0.08618411],\n",
      "       [0.144087  , 0.11043936],\n",
      "       [0.17747214, 0.06692062],\n",
      "       [0.15559258, 0.10201465]], dtype=float32)]\n"
     ]
    },
    {
     "name": "stderr",
     "output_type": "stream",
     "text": [
      "\n",
      "\n",
      "\n",
      "\n",
      "\n",
      "  1%|▌                                                                       | 7/1000 [00:02<04:56,  3.35it/s, loss=0.667]\n",
      "\n",
      "\n",
      "\n",
      "\n",
      "  1%|▌                                                                       | 7/1000 [00:02<04:56,  3.35it/s, loss=0.668]"
     ]
    },
    {
     "name": "stdout",
     "output_type": "stream",
     "text": [
      "Predictions [array([[0.17175409, 0.0826891 ],\n",
      "       [0.17651159, 0.06717139],\n",
      "       [0.14558436, 0.09998165],\n",
      "       [0.17239329, 0.03920001],\n",
      "       [0.14102139, 0.0876037 ],\n",
      "       [0.17568505, 0.09041683],\n",
      "       [0.16168651, 0.06468926],\n",
      "       [0.16110831, 0.09693792],\n",
      "       [0.14782444, 0.08898228],\n",
      "       [0.1627143 , 0.07499076]], dtype=float32)]\n"
     ]
    },
    {
     "name": "stderr",
     "output_type": "stream",
     "text": [
      "\n",
      "\n",
      "\n",
      "\n",
      "\n",
      "  1%|▌                                                                       | 8/1000 [00:02<04:37,  3.57it/s, loss=0.668]\n",
      "\n",
      "\n",
      "\n",
      "\n",
      "  1%|▌                                                                       | 8/1000 [00:02<04:37,  3.57it/s, loss=0.666]"
     ]
    },
    {
     "name": "stdout",
     "output_type": "stream",
     "text": [
      "Predictions [array([[0.1672619 , 0.05907745],\n",
      "       [0.1727514 , 0.07443193],\n",
      "       [0.15752336, 0.08662499],\n",
      "       [0.14499196, 0.09563858],\n",
      "       [0.16712148, 0.06693304],\n",
      "       [0.16073158, 0.07897437],\n",
      "       [0.14777538, 0.09552154],\n",
      "       [0.13393685, 0.09713801],\n",
      "       [0.14969781, 0.08858058],\n",
      "       [0.14263704, 0.09668446]], dtype=float32)]\n"
     ]
    },
    {
     "name": "stderr",
     "output_type": "stream",
     "text": [
      "\n",
      "\n",
      "\n",
      "\n",
      "\n",
      "  1%|▋                                                                       | 9/1000 [00:02<04:25,  3.73it/s, loss=0.666]\n",
      "\n",
      "\n",
      "\n",
      "\n",
      "  1%|▋                                                                       | 9/1000 [00:02<04:25,  3.73it/s, loss=0.666]"
     ]
    },
    {
     "name": "stdout",
     "output_type": "stream",
     "text": [
      "Predictions [array([[0.15222779, 0.08716072],\n",
      "       [0.15383726, 0.08310167],\n",
      "       [0.13759787, 0.10210659],\n",
      "       [0.14479674, 0.08569366],\n",
      "       [0.13807982, 0.09786367],\n",
      "       [0.15600383, 0.09167369],\n",
      "       [0.15580104, 0.07800698],\n",
      "       [0.14925322, 0.09738678],\n",
      "       [0.1533069 , 0.09588999],\n",
      "       [0.15778482, 0.08294959]], dtype=float32)]\n"
     ]
    },
    {
     "name": "stderr",
     "output_type": "stream",
     "text": [
      "\n",
      "\n",
      "\n",
      "\n",
      "\n",
      "  1%|▋                                                                      | 10/1000 [00:02<04:15,  3.87it/s, loss=0.666]\n",
      "\n",
      "\n",
      "\n",
      "\n",
      "  1%|▋                                                                      | 10/1000 [00:03<04:15,  3.87it/s, loss=0.665]"
     ]
    },
    {
     "name": "stdout",
     "output_type": "stream",
     "text": [
      "Predictions [array([[0.1582675 , 0.07067578],\n",
      "       [0.13785915, 0.09465964],\n",
      "       [0.16361327, 0.08965725],\n",
      "       [0.16067511, 0.09846386],\n",
      "       [0.1650528 , 0.06992573],\n",
      "       [0.18348956, 0.07144377],\n",
      "       [0.16112   , 0.08600493],\n",
      "       [0.1478455 , 0.10737809],\n",
      "       [0.16276792, 0.08939245],\n",
      "       [0.16641332, 0.0687777 ]], dtype=float32)]\n"
     ]
    },
    {
     "name": "stderr",
     "output_type": "stream",
     "text": [
      "\n",
      "\n",
      "\n",
      "\n",
      "\n",
      "  1%|▊                                                                      | 11/1000 [00:03<04:10,  3.94it/s, loss=0.665]\n",
      "\n",
      "\n",
      "\n",
      "\n",
      "  1%|▊                                                                      | 11/1000 [00:03<04:10,  3.94it/s, loss=0.664]"
     ]
    },
    {
     "name": "stdout",
     "output_type": "stream",
     "text": [
      "Predictions [array([[0.18866219, 0.10560255],\n",
      "       [0.15108551, 0.08917923],\n",
      "       [0.15205827, 0.07276332],\n",
      "       [0.1635969 , 0.08082429],\n",
      "       [0.14039022, 0.08697218],\n",
      "       [0.14967835, 0.08188566],\n",
      "       [0.1627855 , 0.08008137],\n",
      "       [0.14375801, 0.07828249],\n",
      "       [0.16106309, 0.08509877],\n",
      "       [0.17038536, 0.06646393]], dtype=float32)]\n"
     ]
    },
    {
     "name": "stderr",
     "output_type": "stream",
     "text": [
      "\n",
      "\n",
      "\n",
      "\n",
      "\n",
      "  1%|▊                                                                      | 12/1000 [00:03<04:04,  4.05it/s, loss=0.664]\n",
      "\n",
      "\n",
      "\n",
      "\n",
      "  1%|▊                                                                      | 12/1000 [00:03<04:04,  4.05it/s, loss=0.664]"
     ]
    },
    {
     "name": "stdout",
     "output_type": "stream",
     "text": [
      "Predictions [array([[0.189556  , 0.07863694],\n",
      "       [0.16474766, 0.07742608],\n",
      "       [0.1483771 , 0.07958992],\n",
      "       [0.163244  , 0.09504572],\n",
      "       [0.13980186, 0.07771353],\n",
      "       [0.17441009, 0.08381106],\n",
      "       [0.16631112, 0.05845559],\n",
      "       [0.14228848, 0.08928844],\n",
      "       [0.16055916, 0.08545348],\n",
      "       [0.16061112, 0.07122615]], dtype=float32)]\n"
     ]
    },
    {
     "name": "stderr",
     "output_type": "stream",
     "text": [
      "\n",
      "\n",
      "\n",
      "\n",
      "\n",
      "  1%|▉                                                                      | 13/1000 [00:03<04:00,  4.10it/s, loss=0.664]\n",
      "\n",
      "\n",
      "\n",
      "\n",
      "  1%|▉                                                                      | 13/1000 [00:03<04:00,  4.10it/s, loss=0.663]"
     ]
    },
    {
     "name": "stdout",
     "output_type": "stream",
     "text": [
      "Predictions [array([[0.16376296, 0.0702396 ],\n",
      "       [0.18783653, 0.06914584],\n",
      "       [0.1668402 , 0.08293086],\n",
      "       [0.15823998, 0.06555255],\n",
      "       [0.15167812, 0.09196582],\n",
      "       [0.16467762, 0.08106106],\n",
      "       [0.1476421 , 0.0863941 ],\n",
      "       [0.14165585, 0.08444986],\n",
      "       [0.16068825, 0.0855427 ],\n",
      "       [0.1668719 , 0.07936931]], dtype=float32)]\n"
     ]
    },
    {
     "name": "stderr",
     "output_type": "stream",
     "text": [
      "\n",
      "\n",
      "\n",
      "\n",
      "\n",
      "  1%|▉                                                                      | 14/1000 [00:03<03:57,  4.15it/s, loss=0.663]\n",
      "\n",
      "\n",
      "\n",
      "\n",
      "  1%|▉                                                                      | 14/1000 [00:04<03:57,  4.15it/s, loss=0.660]"
     ]
    },
    {
     "name": "stdout",
     "output_type": "stream",
     "text": [
      "Predictions [array([[0.15494879, 0.07269666],\n",
      "       [0.17722112, 0.05068044],\n",
      "       [0.13401133, 0.10398397],\n",
      "       [0.17219403, 0.08374222],\n",
      "       [0.16108224, 0.06387514],\n",
      "       [0.16293411, 0.08623251],\n",
      "       [0.14948991, 0.07197954],\n",
      "       [0.14651851, 0.08237629],\n",
      "       [0.14625478, 0.08705733],\n",
      "       [0.17700744, 0.06151406]], dtype=float32)]\n"
     ]
    },
    {
     "name": "stderr",
     "output_type": "stream",
     "text": [
      "\n",
      "\n",
      "\n",
      "\n",
      "\n",
      "  2%|█                                                                      | 15/1000 [00:04<03:55,  4.18it/s, loss=0.660]\n",
      "\n",
      "\n",
      "\n",
      "\n",
      "  2%|█                                                                      | 15/1000 [00:04<03:55,  4.18it/s, loss=0.660]"
     ]
    },
    {
     "name": "stdout",
     "output_type": "stream",
     "text": [
      "Predictions [array([[0.17072701, 0.08581219],\n",
      "       [0.1803658 , 0.05042694],\n",
      "       [0.17192969, 0.08198053],\n",
      "       [0.1469752 , 0.08690222],\n",
      "       [0.1661271 , 0.06937692],\n",
      "       [0.12556778, 0.09863593],\n",
      "       [0.16221547, 0.08099775],\n",
      "       [0.15206814, 0.10903771],\n",
      "       [0.17694083, 0.09316398],\n",
      "       [0.17636612, 0.07089383]], dtype=float32)]\n"
     ]
    },
    {
     "name": "stderr",
     "output_type": "stream",
     "text": [
      "\n",
      "\n",
      "\n",
      "\n",
      "\n",
      "  2%|█▏                                                                     | 16/1000 [00:04<03:57,  4.14it/s, loss=0.660]\n",
      "\n",
      "\n",
      "\n",
      "\n",
      "  2%|█▏                                                                     | 16/1000 [00:04<03:57,  4.14it/s, loss=0.661]"
     ]
    },
    {
     "name": "stdout",
     "output_type": "stream",
     "text": [
      "Predictions [array([[0.14734372, 0.08767136],\n",
      "       [0.16242337, 0.04815438],\n",
      "       [0.15484706, 0.08511129],\n",
      "       [0.1746882 , 0.07853513],\n",
      "       [0.16314471, 0.0838529 ],\n",
      "       [0.1732827 , 0.07039986],\n",
      "       [0.15226927, 0.09136797],\n",
      "       [0.1760398 , 0.0484066 ],\n",
      "       [0.16436036, 0.0711878 ],\n",
      "       [0.1765329 , 0.06892842]], dtype=float32)]\n"
     ]
    },
    {
     "name": "stderr",
     "output_type": "stream",
     "text": [
      "\n",
      "\n",
      "\n",
      "\n",
      "\n",
      "  2%|█▏                                                                     | 17/1000 [00:04<03:57,  4.14it/s, loss=0.661]\n",
      "\n",
      "\n",
      "\n",
      "\n",
      "  2%|█▏                                                                     | 17/1000 [00:04<03:57,  4.14it/s, loss=0.657]"
     ]
    },
    {
     "name": "stdout",
     "output_type": "stream",
     "text": [
      "Predictions [array([[0.167512  , 0.05809071],\n",
      "       [0.19234326, 0.04387375],\n",
      "       [0.17457736, 0.0458654 ],\n",
      "       [0.15589347, 0.09019522],\n",
      "       [0.14692073, 0.08703193],\n",
      "       [0.15268612, 0.07554448],\n",
      "       [0.15948471, 0.077322  ],\n",
      "       [0.18062711, 0.07096893],\n",
      "       [0.17559563, 0.07540622],\n",
      "       [0.1625894 , 0.06499524]], dtype=float32)]\n"
     ]
    },
    {
     "name": "stderr",
     "output_type": "stream",
     "text": [
      "\n",
      "\n",
      "\n",
      "\n",
      "\n",
      "  2%|█▎                                                                     | 18/1000 [00:04<04:00,  4.08it/s, loss=0.657]\n",
      "\n",
      "\n",
      "\n",
      "\n",
      "  2%|█▎                                                                     | 18/1000 [00:05<04:00,  4.08it/s, loss=0.657]"
     ]
    },
    {
     "name": "stdout",
     "output_type": "stream",
     "text": [
      "Predictions [array([[0.1548459 , 0.07395636],\n",
      "       [0.1837359 , 0.07629288],\n",
      "       [0.16266102, 0.08709838],\n",
      "       [0.15161723, 0.08216409],\n",
      "       [0.16037896, 0.06268208],\n",
      "       [0.16776875, 0.06675877],\n",
      "       [0.16791774, 0.08108006],\n",
      "       [0.14936595, 0.08983956],\n",
      "       [0.17592868, 0.09190871],\n",
      "       [0.18414503, 0.03525507]], dtype=float32)]\n"
     ]
    },
    {
     "name": "stderr",
     "output_type": "stream",
     "text": [
      "\n",
      "\n",
      "\n",
      "\n",
      "\n",
      "  2%|█▎                                                                     | 19/1000 [00:05<03:58,  4.12it/s, loss=0.657]\n",
      "\n",
      "\n",
      "\n",
      "\n",
      "  2%|█▎                                                                     | 19/1000 [00:05<03:58,  4.12it/s, loss=0.657]"
     ]
    },
    {
     "name": "stdout",
     "output_type": "stream",
     "text": [
      "Predictions [array([[0.14538282, 0.07906367],\n",
      "       [0.17574918, 0.05330563],\n",
      "       [0.16890493, 0.08076347],\n",
      "       [0.18000285, 0.0670749 ],\n",
      "       [0.18502942, 0.0609296 ],\n",
      "       [0.15655771, 0.08394519],\n",
      "       [0.16048653, 0.08745901],\n",
      "       [0.18375435, 0.04352146],\n",
      "       [0.16400807, 0.06074132],\n",
      "       [0.15596855, 0.0831672 ]], dtype=float32)]\n"
     ]
    },
    {
     "name": "stderr",
     "output_type": "stream",
     "text": [
      "\n",
      "\n",
      "\n",
      "\n",
      "\n",
      "  2%|█▍                                                                     | 20/1000 [00:05<03:58,  4.10it/s, loss=0.657]\n",
      "\n",
      "\n",
      "\n",
      "\n",
      "  2%|█▍                                                                     | 20/1000 [00:05<03:58,  4.10it/s, loss=0.655]"
     ]
    },
    {
     "name": "stdout",
     "output_type": "stream",
     "text": [
      "Predictions [array([[0.16886333, 0.05034536],\n",
      "       [0.13510859, 0.08489757],\n",
      "       [0.16468334, 0.05750967],\n",
      "       [0.1576252 , 0.07938311],\n",
      "       [0.17849323, 0.0536757 ],\n",
      "       [0.14203928, 0.08891089],\n",
      "       [0.17579994, 0.05703929],\n",
      "       [0.1659516 , 0.07305752],\n",
      "       [0.1711686 , 0.09383829],\n",
      "       [0.14628887, 0.0891908 ]], dtype=float32)]\n"
     ]
    },
    {
     "name": "stderr",
     "output_type": "stream",
     "text": [
      "\n",
      "\n",
      "\n",
      "\n",
      "\n",
      "  2%|█▍                                                                     | 21/1000 [00:05<03:58,  4.10it/s, loss=0.655]\n",
      "\n",
      "\n",
      "\n",
      "\n",
      "  2%|█▍                                                                     | 21/1000 [00:05<03:58,  4.10it/s, loss=0.656]"
     ]
    },
    {
     "name": "stdout",
     "output_type": "stream",
     "text": [
      "Predictions [array([[0.16517267, 0.08564322],\n",
      "       [0.14699107, 0.07788668],\n",
      "       [0.18139276, 0.06428631],\n",
      "       [0.14765456, 0.09756557],\n",
      "       [0.16360351, 0.08277209],\n",
      "       [0.15303908, 0.06355473],\n",
      "       [0.16999674, 0.06990914],\n",
      "       [0.20091492, 0.05068766],\n",
      "       [0.17616038, 0.08050944],\n",
      "       [0.16507724, 0.05809193]], dtype=float32)]\n"
     ]
    },
    {
     "name": "stderr",
     "output_type": "stream",
     "text": [
      "\n",
      "\n",
      "\n",
      "\n",
      "\n",
      "  2%|█▌                                                                     | 22/1000 [00:05<03:58,  4.10it/s, loss=0.656]\n",
      "\n",
      "\n",
      "\n",
      "\n",
      "  2%|█▌                                                                     | 22/1000 [00:05<03:58,  4.10it/s, loss=0.654]"
     ]
    },
    {
     "name": "stdout",
     "output_type": "stream",
     "text": [
      "Predictions [array([[0.1450266 , 0.08227263],\n",
      "       [0.17955199, 0.05700043],\n",
      "       [0.15781498, 0.0744656 ],\n",
      "       [0.18010257, 0.06471202],\n",
      "       [0.15768257, 0.08101453],\n",
      "       [0.1548934 , 0.06864237],\n",
      "       [0.15911244, 0.07048847],\n",
      "       [0.16102037, 0.07244182],\n",
      "       [0.16238372, 0.07352129],\n",
      "       [0.19378453, 0.05730362]], dtype=float32)]\n"
     ]
    },
    {
     "name": "stderr",
     "output_type": "stream",
     "text": [
      "\n",
      "\n",
      "\n",
      "\n",
      "\n",
      "  2%|█▋                                                                     | 23/1000 [00:06<03:57,  4.12it/s, loss=0.654]\n",
      "\n",
      "\n",
      "\n",
      "\n",
      "  2%|█▋                                                                     | 23/1000 [00:06<03:57,  4.12it/s, loss=0.654]"
     ]
    },
    {
     "name": "stdout",
     "output_type": "stream",
     "text": [
      "Predictions [array([[0.17717625, 0.06117734],\n",
      "       [0.19478184, 0.03502943],\n",
      "       [0.17670211, 0.07401466],\n",
      "       [0.16533618, 0.07112256],\n",
      "       [0.16830286, 0.06691159],\n",
      "       [0.1628541 , 0.06107841],\n",
      "       [0.18045379, 0.06329277],\n",
      "       [0.18534939, 0.03682413],\n",
      "       [0.16906184, 0.07764465],\n",
      "       [0.19314902, 0.05712269]], dtype=float32)]\n"
     ]
    },
    {
     "name": "stderr",
     "output_type": "stream",
     "text": [
      "\n",
      "\n",
      "\n",
      "\n",
      "\n",
      "  2%|█▋                                                                     | 24/1000 [00:06<03:56,  4.12it/s, loss=0.654]\n",
      "\n",
      "\n",
      "\n",
      "\n",
      "  2%|█▋                                                                     | 24/1000 [00:06<03:56,  4.12it/s, loss=0.651]"
     ]
    },
    {
     "name": "stdout",
     "output_type": "stream",
     "text": [
      "Predictions [array([[0.1679537 , 0.06869584],\n",
      "       [0.17755115, 0.0787029 ],\n",
      "       [0.15146229, 0.07246248],\n",
      "       [0.16595757, 0.05575796],\n",
      "       [0.21272475, 0.03286026],\n",
      "       [0.17234977, 0.06917316],\n",
      "       [0.18941572, 0.05859779],\n",
      "       [0.17725824, 0.05069565],\n",
      "       [0.17660397, 0.06673913],\n",
      "       [0.16908008, 0.06176525]], dtype=float32)]\n"
     ]
    },
    {
     "name": "stderr",
     "output_type": "stream",
     "text": [
      "\n",
      "\n",
      "\n",
      "\n",
      "\n",
      "  2%|█▊                                                                     | 25/1000 [00:06<03:56,  4.12it/s, loss=0.651]\n",
      "\n",
      "\n",
      "\n",
      "\n",
      "  2%|█▊                                                                     | 25/1000 [00:06<03:56,  4.12it/s, loss=0.650]"
     ]
    },
    {
     "name": "stdout",
     "output_type": "stream",
     "text": [
      "Predictions [array([[0.17117476, 0.05303575],\n",
      "       [0.20292774, 0.07907753],\n",
      "       [0.15067956, 0.07829007],\n",
      "       [0.15693524, 0.08697898],\n",
      "       [0.18547389, 0.05417927],\n",
      "       [0.2152258 , 0.0348862 ],\n",
      "       [0.18723822, 0.05731801],\n",
      "       [0.16408147, 0.07174781],\n",
      "       [0.16250584, 0.06410415],\n",
      "       [0.15153338, 0.07770504]], dtype=float32)]\n"
     ]
    },
    {
     "name": "stderr",
     "output_type": "stream",
     "text": [
      "\n",
      "\n",
      "\n",
      "\n",
      "\n",
      "  3%|█▊                                                                     | 26/1000 [00:06<03:56,  4.12it/s, loss=0.650]\n",
      "\n",
      "\n",
      "\n",
      "\n",
      "  3%|█▊                                                                     | 26/1000 [00:06<03:56,  4.12it/s, loss=0.650]"
     ]
    },
    {
     "name": "stdout",
     "output_type": "stream",
     "text": [
      "Predictions [array([[0.19965981, 0.06921583],\n",
      "       [0.20020813, 0.06592317],\n",
      "       [0.16529535, 0.0597638 ],\n",
      "       [0.17119855, 0.07401762],\n",
      "       [0.18678428, 0.04625631],\n",
      "       [0.16062126, 0.08345464],\n",
      "       [0.21558906, 0.02886958],\n",
      "       [0.1670813 , 0.0580518 ],\n",
      "       [0.16546333, 0.09527578],\n",
      "       [0.1713318 , 0.06101586]], dtype=float32)]\n"
     ]
    },
    {
     "name": "stderr",
     "output_type": "stream",
     "text": [
      "\n",
      "\n",
      "\n",
      "\n",
      "\n",
      "  3%|█▉                                                                     | 27/1000 [00:07<03:55,  4.14it/s, loss=0.650]\n",
      "\n",
      "\n",
      "\n",
      "\n",
      "  3%|█▉                                                                     | 27/1000 [00:07<03:55,  4.14it/s, loss=0.649]"
     ]
    },
    {
     "name": "stdout",
     "output_type": "stream",
     "text": [
      "Predictions [array([[0.20038046, 0.04718938],\n",
      "       [0.15824838, 0.04835046],\n",
      "       [0.18859793, 0.06273668],\n",
      "       [0.16475798, 0.07168855],\n",
      "       [0.16646332, 0.05973516],\n",
      "       [0.18786623, 0.0365007 ],\n",
      "       [0.1599891 , 0.07290268],\n",
      "       [0.22555289, 0.00138823],\n",
      "       [0.20105655, 0.02690266],\n",
      "       [0.18242814, 0.07002564]], dtype=float32)]\n"
     ]
    },
    {
     "name": "stderr",
     "output_type": "stream",
     "text": [
      "\n",
      "\n",
      "\n",
      "\n",
      "\n",
      "  3%|█▉                                                                     | 28/1000 [00:07<03:55,  4.13it/s, loss=0.649]\n",
      "\n",
      "\n",
      "\n",
      "\n",
      "  3%|█▉                                                                     | 28/1000 [00:07<03:55,  4.13it/s, loss=0.647]"
     ]
    },
    {
     "name": "stdout",
     "output_type": "stream",
     "text": [
      "Predictions [array([[0.2223852 , 0.03698841],\n",
      "       [0.1803675 , 0.04205073],\n",
      "       [0.16848937, 0.09475011],\n",
      "       [0.18357435, 0.08522324],\n",
      "       [0.18301968, 0.04637526],\n",
      "       [0.17333475, 0.06179508],\n",
      "       [0.17533113, 0.06235737],\n",
      "       [0.14692071, 0.08081521],\n",
      "       [0.1736229 , 0.05257995],\n",
      "       [0.17759018, 0.05493119]], dtype=float32)]\n"
     ]
    },
    {
     "name": "stderr",
     "output_type": "stream",
     "text": [
      "\n",
      "\n",
      "\n",
      "\n",
      "\n",
      "  3%|██                                                                     | 29/1000 [00:07<03:58,  4.07it/s, loss=0.647]\n",
      "\n",
      "\n",
      "\n",
      "\n",
      "  3%|██                                                                     | 29/1000 [00:07<03:58,  4.07it/s, loss=0.644]"
     ]
    },
    {
     "name": "stdout",
     "output_type": "stream",
     "text": [
      "Predictions [array([[0.18765265, 0.03818561],\n",
      "       [0.17274082, 0.07125996],\n",
      "       [0.17142436, 0.07395056],\n",
      "       [0.18148354, 0.05473583],\n",
      "       [0.22966573, 0.00951851],\n",
      "       [0.17461109, 0.06219175],\n",
      "       [0.15668675, 0.0759279 ],\n",
      "       [0.14691058, 0.06935469],\n",
      "       [0.17282423, 0.05050053],\n",
      "       [0.21189174, 0.01222945]], dtype=float32)]\n"
     ]
    },
    {
     "name": "stderr",
     "output_type": "stream",
     "text": [
      "\n",
      "\n",
      "\n",
      "\n",
      "\n",
      "  3%|██▏                                                                    | 30/1000 [00:07<04:00,  4.03it/s, loss=0.644]\n",
      "\n",
      "\n",
      "\n",
      "\n",
      "  3%|██▏                                                                    | 30/1000 [00:07<04:00,  4.03it/s, loss=0.644]"
     ]
    },
    {
     "name": "stdout",
     "output_type": "stream",
     "text": [
      "Predictions [array([[0.1774967 , 0.0537224 ],\n",
      "       [0.191021  , 0.04552934],\n",
      "       [0.1771599 , 0.03656948],\n",
      "       [0.18190539, 0.03746055],\n",
      "       [0.17350739, 0.06094775],\n",
      "       [0.18794557, 0.03655447],\n",
      "       [0.19689818, 0.03039227],\n",
      "       [0.17007564, 0.05520978],\n",
      "       [0.15854746, 0.08085708],\n",
      "       [0.16582851, 0.08241974]], dtype=float32)]\n"
     ]
    },
    {
     "name": "stderr",
     "output_type": "stream",
     "text": [
      "\n",
      "\n",
      "\n",
      "\n",
      "\n",
      "  3%|██▏                                                                    | 31/1000 [00:08<04:01,  4.02it/s, loss=0.644]\n",
      "\n",
      "\n",
      "\n",
      "\n",
      "  3%|██▏                                                                    | 31/1000 [00:08<04:01,  4.02it/s, loss=0.644]"
     ]
    },
    {
     "name": "stdout",
     "output_type": "stream",
     "text": [
      "Predictions [array([[0.23181775, 0.0250089 ],\n",
      "       [0.17731914, 0.0508498 ],\n",
      "       [0.18513384, 0.06467164],\n",
      "       [0.17127493, 0.04329123],\n",
      "       [0.19357905, 0.02040204],\n",
      "       [0.16803151, 0.08003096],\n",
      "       [0.18770936, 0.03437266],\n",
      "       [0.16696519, 0.06275494],\n",
      "       [0.1951553 , 0.03473065],\n",
      "       [0.15825894, 0.06888057]], dtype=float32)]\n"
     ]
    },
    {
     "name": "stderr",
     "output_type": "stream",
     "text": [
      "\n",
      "\n",
      "\n",
      "\n",
      "\n",
      "  3%|██▎                                                                    | 32/1000 [00:08<04:01,  4.01it/s, loss=0.644]\n",
      "\n",
      "\n",
      "\n",
      "\n",
      "  3%|██▎                                                                    | 32/1000 [00:08<04:01,  4.01it/s, loss=0.644]"
     ]
    },
    {
     "name": "stdout",
     "output_type": "stream",
     "text": [
      "Predictions [array([[0.18741547, 0.06233414],\n",
      "       [0.15849519, 0.07981901],\n",
      "       [0.19043994, 0.03054236],\n",
      "       [0.19734803, 0.0549518 ],\n",
      "       [0.17094925, 0.05295574],\n",
      "       [0.14889441, 0.09594366],\n",
      "       [0.21450971, 0.03176168],\n",
      "       [0.17680407, 0.04775209],\n",
      "       [0.17504817, 0.05542174],\n",
      "       [0.1911445 , 0.04790166]], dtype=float32)]\n"
     ]
    },
    {
     "name": "stderr",
     "output_type": "stream",
     "text": [
      "\n",
      "\n",
      "\n",
      "\n",
      "\n",
      "  3%|██▎                                                                    | 33/1000 [00:08<04:02,  3.99it/s, loss=0.644]\n",
      "\n",
      "\n",
      "\n",
      "\n",
      "  3%|██▎                                                                    | 33/1000 [00:08<04:02,  3.99it/s, loss=0.641]"
     ]
    },
    {
     "name": "stdout",
     "output_type": "stream",
     "text": [
      "Predictions [array([[0.19525774, 0.02373859],\n",
      "       [0.17250785, 0.05561931],\n",
      "       [0.16625708, 0.05496047],\n",
      "       [0.21226037, 0.01478221],\n",
      "       [0.18929723, 0.04745264],\n",
      "       [0.18344474, 0.04348673],\n",
      "       [0.14614706, 0.0817276 ],\n",
      "       [0.16958308, 0.05704132],\n",
      "       [0.15237245, 0.07215253],\n",
      "       [0.19977756, 0.03505866]], dtype=float32)]\n"
     ]
    },
    {
     "name": "stderr",
     "output_type": "stream",
     "text": [
      "\n",
      "\n",
      "\n",
      "\n",
      "\n",
      "  3%|██▍                                                                    | 34/1000 [00:08<04:01,  4.01it/s, loss=0.641]\n",
      "\n",
      "\n",
      "\n",
      "\n",
      "  3%|██▍                                                                    | 34/1000 [00:08<04:01,  4.01it/s, loss=0.639]"
     ]
    },
    {
     "name": "stdout",
     "output_type": "stream",
     "text": [
      "Predictions [array([[0.17918082, 0.03825881],\n",
      "       [0.18964335, 0.05666814],\n",
      "       [0.15482087, 0.06136347],\n",
      "       [0.16643998, 0.05691007],\n",
      "       [0.18025172, 0.06023004],\n",
      "       [0.17884141, 0.04717766],\n",
      "       [0.17940386, 0.04784603],\n",
      "       [0.20616943, 0.04771876],\n",
      "       [0.19646204, 0.02471203],\n",
      "       [0.17509362, 0.04811073]], dtype=float32)]\n"
     ]
    },
    {
     "name": "stderr",
     "output_type": "stream",
     "text": [
      "\n",
      "\n",
      "\n",
      "\n",
      "\n",
      "  4%|██▍                                                                    | 35/1000 [00:09<04:02,  3.98it/s, loss=0.639]\n",
      "\n",
      "\n",
      "\n",
      "\n",
      "  4%|██▍                                                                    | 35/1000 [00:09<04:02,  3.98it/s, loss=0.639]"
     ]
    },
    {
     "name": "stdout",
     "output_type": "stream",
     "text": [
      "Predictions [array([[0.21981113, 0.02029688],\n",
      "       [0.16783968, 0.06913278],\n",
      "       [0.19968525, 0.05066539],\n",
      "       [0.16564074, 0.06066566],\n",
      "       [0.18062913, 0.04226548],\n",
      "       [0.1951522 , 0.04293375],\n",
      "       [0.18544573, 0.04579512],\n",
      "       [0.17133784, 0.0554913 ],\n",
      "       [0.1469432 , 0.07938989],\n",
      "       [0.17772633, 0.04600785]], dtype=float32)]\n"
     ]
    },
    {
     "name": "stderr",
     "output_type": "stream",
     "text": [
      "\n",
      "\n",
      "\n",
      "\n",
      "\n",
      "  4%|██▌                                                                    | 36/1000 [00:09<04:01,  3.99it/s, loss=0.639]\n",
      "\n",
      "\n",
      "\n",
      "\n",
      "  4%|██▌                                                                    | 36/1000 [00:09<04:01,  3.99it/s, loss=0.637]"
     ]
    },
    {
     "name": "stdout",
     "output_type": "stream",
     "text": [
      "Predictions [array([[0.18754378, 0.03556842],\n",
      "       [0.16687253, 0.06163403],\n",
      "       [0.17577365, 0.0580076 ],\n",
      "       [0.21461093, 0.01022788],\n",
      "       [0.17959787, 0.05045068],\n",
      "       [0.18374182, 0.03731588],\n",
      "       [0.15900113, 0.07086707],\n",
      "       [0.20639856, 0.04297313],\n",
      "       [0.17364267, 0.05170234],\n",
      "       [0.21669665, 0.00753628]], dtype=float32)]\n"
     ]
    },
    {
     "name": "stderr",
     "output_type": "stream",
     "text": [
      "\n",
      "\n",
      "\n",
      "\n",
      "\n",
      "  4%|██▋                                                                    | 37/1000 [00:09<04:00,  4.00it/s, loss=0.637]\n",
      "\n",
      "\n",
      "\n",
      "\n",
      "  4%|██▋                                                                    | 37/1000 [00:09<04:00,  4.00it/s, loss=0.637]"
     ]
    },
    {
     "name": "stdout",
     "output_type": "stream",
     "text": [
      "Predictions [array([[0.1806686 , 0.05626615],\n",
      "       [0.17752934, 0.04971116],\n",
      "       [0.18535712, 0.04812601],\n",
      "       [0.18675008, 0.04518079],\n",
      "       [0.21337716, 0.01551212],\n",
      "       [0.20699672, 0.02502761],\n",
      "       [0.19502582, 0.04681251],\n",
      "       [0.19245782, 0.0539336 ],\n",
      "       [0.19316024, 0.03373343],\n",
      "       [0.1390315 , 0.08399318]], dtype=float32)]\n"
     ]
    },
    {
     "name": "stderr",
     "output_type": "stream",
     "text": [
      "\n",
      "\n",
      "\n",
      "\n",
      "\n",
      "  4%|██▋                                                                    | 38/1000 [00:09<04:00,  3.99it/s, loss=0.637]\n",
      "\n",
      "\n",
      "\n",
      "\n",
      "  4%|██▋                                                                    | 38/1000 [00:09<04:00,  3.99it/s, loss=0.634]"
     ]
    },
    {
     "name": "stdout",
     "output_type": "stream",
     "text": [
      "Predictions [array([[0.15369418, 0.06051218],\n",
      "       [0.2063193 , 0.02743642],\n",
      "       [0.21539938, 0.0006148 ],\n",
      "       [0.19744019, 0.06691222],\n",
      "       [0.17735952, 0.04659497],\n",
      "       [0.19963798, 0.04770693],\n",
      "       [0.19256608, 0.04782926],\n",
      "       [0.18226868, 0.0737427 ],\n",
      "       [0.1560591 , 0.06935105],\n",
      "       [0.18653432, 0.02953625]], dtype=float32)]\n"
     ]
    },
    {
     "name": "stderr",
     "output_type": "stream",
     "text": [
      "\n",
      "\n",
      "\n",
      "\n",
      "\n",
      "  4%|██▊                                                                    | 39/1000 [00:10<04:03,  3.94it/s, loss=0.634]\n",
      "\n",
      "\n",
      "\n",
      "\n",
      "  4%|██▊                                                                    | 39/1000 [00:10<04:03,  3.94it/s, loss=0.629]"
     ]
    },
    {
     "name": "stdout",
     "output_type": "stream",
     "text": [
      "Predictions [array([[0.1831092 , 0.05047566],\n",
      "       [0.2010462 , 0.0335299 ],\n",
      "       [0.20507808, 0.04240687],\n",
      "       [0.19366282, 0.05291554],\n",
      "       [0.23166859, 0.00125403],\n",
      "       [0.19161588, 0.05555228],\n",
      "       [0.19123688, 0.05312099],\n",
      "       [0.14481708, 0.078499  ],\n",
      "       [0.16766837, 0.05717826],\n",
      "       [0.17502387, 0.05975003]], dtype=float32)]\n"
     ]
    },
    {
     "name": "stderr",
     "output_type": "stream",
     "text": [
      "\n",
      "\n",
      "\n",
      "\n",
      "\n",
      "  4%|██▊                                                                    | 40/1000 [00:10<03:59,  4.00it/s, loss=0.629]\n",
      "\n",
      "\n",
      "\n",
      "\n",
      "  4%|██▊                                                                    | 40/1000 [00:10<03:59,  4.00it/s, loss=0.628]"
     ]
    },
    {
     "name": "stdout",
     "output_type": "stream",
     "text": [
      "Predictions [array([[0.19151479, 0.04235055],\n",
      "       [0.18931963, 0.04756609],\n",
      "       [0.17699645, 0.05085784],\n",
      "       [0.18621576, 0.05216084],\n",
      "       [0.16958334, 0.06224712],\n",
      "       [0.18321773, 0.06309032],\n",
      "       [0.2005846 , 0.04609501],\n",
      "       [0.23415448, 0.01632417],\n",
      "       [0.2054331 , 0.03258395],\n",
      "       [0.18984619, 0.03007628]], dtype=float32)]\n"
     ]
    },
    {
     "name": "stderr",
     "output_type": "stream",
     "text": [
      "\n",
      "\n",
      "\n",
      "\n",
      "\n",
      "  4%|██▉                                                                    | 41/1000 [00:10<03:57,  4.03it/s, loss=0.628]\n",
      "\n",
      "\n",
      "\n",
      "\n",
      "  4%|██▉                                                                    | 41/1000 [00:10<03:57,  4.03it/s, loss=0.628]"
     ]
    },
    {
     "name": "stdout",
     "output_type": "stream",
     "text": [
      "Predictions [array([[0.20765004, 0.04944865],\n",
      "       [0.16672498, 0.05735799],\n",
      "       [0.18604162, 0.05018784],\n",
      "       [0.19948938, 0.03015935],\n",
      "       [0.22571775, 0.00673459],\n",
      "       [0.18983878, 0.05786799],\n",
      "       [0.19688907, 0.03255329],\n",
      "       [0.2173653 , 0.02405858],\n",
      "       [0.17268318, 0.04672997],\n",
      "       [0.24047965, 0.        ]], dtype=float32)]\n"
     ]
    },
    {
     "name": "stderr",
     "output_type": "stream",
     "text": [
      "\n",
      "\n",
      "\n",
      "\n",
      "\n",
      "  4%|██▉                                                                    | 42/1000 [00:10<03:57,  4.03it/s, loss=0.628]\n",
      "\n",
      "\n",
      "\n",
      "\n",
      "  4%|██▉                                                                    | 42/1000 [00:10<03:57,  4.03it/s, loss=0.629]"
     ]
    },
    {
     "name": "stdout",
     "output_type": "stream",
     "text": [
      "Predictions [array([[0.20324515, 0.0305748 ],\n",
      "       [0.20773697, 0.02356122],\n",
      "       [0.17705381, 0.05994546],\n",
      "       [0.2096991 , 0.02511935],\n",
      "       [0.18205684, 0.05141997],\n",
      "       [0.20518678, 0.01725023],\n",
      "       [0.19440746, 0.04482951],\n",
      "       [0.24045673, 0.00105328],\n",
      "       [0.21441391, 0.01400394],\n",
      "       [0.22302485, 0.02467843]], dtype=float32)]\n"
     ]
    },
    {
     "name": "stderr",
     "output_type": "stream",
     "text": [
      "\n",
      "\n",
      "\n",
      "\n",
      "\n",
      "  4%|███                                                                    | 43/1000 [00:11<03:57,  4.03it/s, loss=0.629]\n",
      "\n",
      "\n",
      "\n",
      "\n",
      "  4%|███                                                                    | 43/1000 [00:11<03:57,  4.03it/s, loss=0.631]"
     ]
    },
    {
     "name": "stdout",
     "output_type": "stream",
     "text": [
      "Predictions [array([[0.22952327, 0.        ],\n",
      "       [0.23158252, 0.00715255],\n",
      "       [0.20778444, 0.04159182],\n",
      "       [0.21082869, 0.03113466],\n",
      "       [0.19160348, 0.03253926],\n",
      "       [0.20814288, 0.02471363],\n",
      "       [0.22887143, 0.00207461],\n",
      "       [0.20450652, 0.02626532],\n",
      "       [0.19151556, 0.04188021],\n",
      "       [0.14500204, 0.08318122]], dtype=float32)]\n"
     ]
    },
    {
     "name": "stderr",
     "output_type": "stream",
     "text": [
      "\n",
      "\n",
      "\n",
      "\n",
      "\n",
      "  4%|███                                                                    | 44/1000 [00:11<03:56,  4.05it/s, loss=0.631]\n",
      "\n",
      "\n",
      "\n",
      "\n",
      "  4%|███                                                                    | 44/1000 [00:11<03:56,  4.05it/s, loss=0.625]"
     ]
    },
    {
     "name": "stdout",
     "output_type": "stream",
     "text": [
      "Predictions [array([[0.18295792, 0.06571619],\n",
      "       [0.2645113 , 0.        ],\n",
      "       [0.22984438, 0.01600785],\n",
      "       [0.23131602, 0.        ],\n",
      "       [0.24246904, 0.02600651],\n",
      "       [0.1902352 , 0.04788935],\n",
      "       [0.2004819 , 0.02408946],\n",
      "       [0.25213712, 0.        ],\n",
      "       [0.207633  , 0.02144042],\n",
      "       [0.23229925, 0.00609189]], dtype=float32)]\n"
     ]
    },
    {
     "name": "stderr",
     "output_type": "stream",
     "text": [
      "\n",
      "\n",
      "\n",
      "\n",
      "\n",
      "  4%|███▏                                                                   | 45/1000 [00:11<03:56,  4.03it/s, loss=0.625]\n",
      "\n",
      "\n",
      "\n",
      "\n",
      "  4%|███▏                                                                   | 45/1000 [00:11<03:56,  4.03it/s, loss=0.624]"
     ]
    },
    {
     "name": "stdout",
     "output_type": "stream",
     "text": [
      "Predictions [array([[0.21561974, 0.00192595],\n",
      "       [0.2089073 , 0.04457742],\n",
      "       [0.24381423, 0.02088942],\n",
      "       [0.25008127, 0.        ],\n",
      "       [0.24811292, 0.        ],\n",
      "       [0.23736668, 0.        ],\n",
      "       [0.19527182, 0.05696023],\n",
      "       [0.19556126, 0.04561047],\n",
      "       [0.22244307, 0.00235085],\n",
      "       [0.23789775, 0.        ]], dtype=float32)]\n"
     ]
    },
    {
     "name": "stderr",
     "output_type": "stream",
     "text": [
      "\n",
      "\n",
      "\n",
      "\n",
      "\n",
      "  5%|███▎                                                                   | 46/1000 [00:11<03:56,  4.03it/s, loss=0.624]\n",
      "\n",
      "\n",
      "\n",
      "\n",
      "  5%|███▎                                                                   | 46/1000 [00:11<03:56,  4.03it/s, loss=0.622]"
     ]
    },
    {
     "name": "stdout",
     "output_type": "stream",
     "text": [
      "Predictions [array([[0.21394403, 0.00623463],\n",
      "       [0.18548211, 0.04111941],\n",
      "       [0.28701907, 0.        ],\n",
      "       [0.2271133 , 0.00499964],\n",
      "       [0.22701   , 0.00895926],\n",
      "       [0.21595979, 0.01731163],\n",
      "       [0.24387625, 0.0093732 ],\n",
      "       [0.17529038, 0.03485074],\n",
      "       [0.20521495, 0.02731302],\n",
      "       [0.22063172, 0.02080866]], dtype=float32)]\n"
     ]
    },
    {
     "name": "stderr",
     "output_type": "stream",
     "text": [
      "\n",
      "\n",
      "\n",
      "\n",
      "\n",
      "  5%|███▎                                                                   | 47/1000 [00:12<03:58,  4.00it/s, loss=0.622]\n",
      "\n",
      "\n",
      "\n",
      "\n",
      "  5%|███▎                                                                   | 47/1000 [00:12<03:58,  4.00it/s, loss=0.625]"
     ]
    },
    {
     "name": "stdout",
     "output_type": "stream",
     "text": [
      "Predictions [array([[0.20562439, 0.03641549],\n",
      "       [0.26627237, 0.        ],\n",
      "       [0.299851  , 0.        ],\n",
      "       [0.20671351, 0.01480275],\n",
      "       [0.247895  , 0.        ],\n",
      "       [0.23328403, 0.03553353],\n",
      "       [0.25622556, 0.00117179],\n",
      "       [0.191107  , 0.03040285],\n",
      "       [0.189538  , 0.03494997],\n",
      "       [0.20718451, 0.03419941]], dtype=float32)]\n"
     ]
    },
    {
     "name": "stderr",
     "output_type": "stream",
     "text": [
      "\n",
      "\n",
      "\n",
      "\n",
      "\n",
      "  5%|███▍                                                                   | 48/1000 [00:12<03:55,  4.04it/s, loss=0.625]\n",
      "\n",
      "\n",
      "\n",
      "\n",
      "  5%|███▍                                                                   | 48/1000 [00:12<03:55,  4.04it/s, loss=0.623]"
     ]
    },
    {
     "name": "stdout",
     "output_type": "stream",
     "text": [
      "Predictions [array([[2.5371510e-01, 0.0000000e+00],\n",
      "       [2.2062844e-01, 6.2413514e-05],\n",
      "       [2.0579441e-01, 5.6413144e-02],\n",
      "       [1.9486067e-01, 3.5917133e-02],\n",
      "       [2.0604214e-01, 4.5116071e-02],\n",
      "       [1.9466239e-01, 4.2283807e-02],\n",
      "       [2.3717387e-01, 2.6306368e-02],\n",
      "       [1.9336283e-01, 4.9644053e-02],\n",
      "       [2.1790864e-01, 3.9840087e-02],\n",
      "       [2.0843358e-01, 3.5965614e-02]], dtype=float32)]\n"
     ]
    },
    {
     "name": "stderr",
     "output_type": "stream",
     "text": [
      "\n",
      "\n",
      "\n",
      "\n",
      "\n",
      "  5%|███▍                                                                   | 49/1000 [00:12<03:53,  4.07it/s, loss=0.623]\n",
      "\n",
      "\n",
      "\n",
      "\n",
      "  5%|███▍                                                                   | 49/1000 [00:12<03:53,  4.07it/s, loss=0.618]"
     ]
    },
    {
     "name": "stdout",
     "output_type": "stream",
     "text": [
      "Predictions [array([[0.1850736 , 0.05134701],\n",
      "       [0.22888198, 0.00404824],\n",
      "       [0.20906626, 0.0241264 ],\n",
      "       [0.20401737, 0.02297084],\n",
      "       [0.23466067, 0.02509531],\n",
      "       [0.23261786, 0.        ],\n",
      "       [0.26505417, 0.        ],\n",
      "       [0.22548899, 0.01343465],\n",
      "       [0.21043487, 0.01664931],\n",
      "       [0.24629459, 0.00580369]], dtype=float32)]\n"
     ]
    },
    {
     "name": "stderr",
     "output_type": "stream",
     "text": [
      "\n",
      "\n",
      "\n",
      "\n",
      "\n",
      "  5%|███▌                                                                   | 50/1000 [00:12<03:55,  4.03it/s, loss=0.618]\n",
      "\n",
      "\n",
      "\n",
      "\n",
      "  5%|███▌                                                                   | 50/1000 [00:12<03:55,  4.03it/s, loss=0.616]"
     ]
    },
    {
     "name": "stdout",
     "output_type": "stream",
     "text": [
      "Predictions [array([[0.25407457, 0.        ],\n",
      "       [0.23783606, 0.01550887],\n",
      "       [0.21876454, 0.02530044],\n",
      "       [0.19282863, 0.0445768 ],\n",
      "       [0.3112209 , 0.        ],\n",
      "       [0.20525163, 0.03100695],\n",
      "       [0.22809395, 0.00976359],\n",
      "       [0.25509986, 0.        ],\n",
      "       [0.29358837, 0.        ],\n",
      "       [0.26189235, 0.        ]], dtype=float32)]\n"
     ]
    },
    {
     "name": "stderr",
     "output_type": "stream",
     "text": [
      "\n",
      "\n",
      "\n",
      "\n",
      "\n",
      "  5%|███▌                                                                   | 51/1000 [00:13<03:54,  4.04it/s, loss=0.616]\n",
      "\n",
      "\n",
      "\n",
      "\n",
      "  5%|███▌                                                                   | 51/1000 [00:13<03:54,  4.04it/s, loss=0.617]"
     ]
    },
    {
     "name": "stdout",
     "output_type": "stream",
     "text": [
      "Predictions [array([[0.21621561, 0.03349172],\n",
      "       [0.22745588, 0.02874295],\n",
      "       [0.22901702, 0.01539008],\n",
      "       [0.2242176 , 0.01855373],\n",
      "       [0.23007601, 0.00440319],\n",
      "       [0.22479811, 0.01468084],\n",
      "       [0.25021994, 0.        ],\n",
      "       [0.24432018, 0.01786467],\n",
      "       [0.19675007, 0.03461337],\n",
      "       [0.2223272 , 0.01300382]], dtype=float32)]\n"
     ]
    },
    {
     "name": "stderr",
     "output_type": "stream",
     "text": [
      "\n",
      "\n",
      "\n",
      "\n",
      "\n",
      "  5%|███▋                                                                   | 52/1000 [00:13<03:55,  4.03it/s, loss=0.617]\n",
      "\n",
      "\n",
      "\n",
      "\n",
      "  5%|███▋                                                                   | 52/1000 [00:13<03:55,  4.03it/s, loss=0.612]"
     ]
    },
    {
     "name": "stdout",
     "output_type": "stream",
     "text": [
      "Predictions [array([[0.2236189 , 0.02998483],\n",
      "       [0.23761413, 0.        ],\n",
      "       [0.21233632, 0.02608682],\n",
      "       [0.22629717, 0.02238779],\n",
      "       [0.30360535, 0.        ],\n",
      "       [0.21661538, 0.02558269],\n",
      "       [0.24711016, 0.        ],\n",
      "       [0.22931224, 0.03245757],\n",
      "       [0.2327441 , 0.00861204],\n",
      "       [0.25619233, 0.        ]], dtype=float32)]\n"
     ]
    },
    {
     "name": "stderr",
     "output_type": "stream",
     "text": [
      "\n",
      "\n",
      "\n",
      "\n",
      "\n",
      "  5%|███▊                                                                   | 53/1000 [00:13<03:55,  4.02it/s, loss=0.612]\n",
      "\n",
      "\n",
      "\n",
      "\n",
      "  5%|███▊                                                                   | 53/1000 [00:13<03:55,  4.02it/s, loss=0.615]"
     ]
    },
    {
     "name": "stdout",
     "output_type": "stream",
     "text": [
      "Predictions [array([[0.2685213 , 0.0019227 ],\n",
      "       [0.3119251 , 0.        ],\n",
      "       [0.20986557, 0.02969667],\n",
      "       [0.23887877, 0.        ],\n",
      "       [0.27881214, 0.        ],\n",
      "       [0.25211504, 0.        ],\n",
      "       [0.2199564 , 0.02178267],\n",
      "       [0.18522093, 0.05776822],\n",
      "       [0.22024322, 0.01855642],\n",
      "       [0.19679978, 0.03732394]], dtype=float32)]\n"
     ]
    },
    {
     "name": "stderr",
     "output_type": "stream",
     "text": [
      "\n",
      "\n",
      "\n",
      "\n",
      "\n",
      "  5%|███▊                                                                   | 54/1000 [00:13<03:55,  4.01it/s, loss=0.615]\n",
      "\n",
      "\n",
      "\n",
      "\n",
      "  5%|███▊                                                                   | 54/1000 [00:13<03:55,  4.01it/s, loss=0.606]"
     ]
    },
    {
     "name": "stdout",
     "output_type": "stream",
     "text": [
      "Predictions [array([[0.21844812, 0.00850947],\n",
      "       [0.23751876, 0.01489154],\n",
      "       [0.20592225, 0.03619512],\n",
      "       [0.25258803, 0.        ],\n",
      "       [0.26204032, 0.        ],\n",
      "       [0.26485455, 0.        ],\n",
      "       [0.25214928, 0.        ],\n",
      "       [0.24536303, 0.00460686],\n",
      "       [0.22255188, 0.01153825],\n",
      "       [0.2227089 , 0.02965534]], dtype=float32)]\n"
     ]
    },
    {
     "name": "stderr",
     "output_type": "stream",
     "text": [
      "\n",
      "\n",
      "\n",
      "\n",
      "\n",
      "  6%|███▉                                                                   | 55/1000 [00:14<03:55,  4.01it/s, loss=0.606]\n",
      "\n",
      "\n",
      "\n",
      "\n",
      "  6%|███▉                                                                   | 55/1000 [00:14<03:55,  4.01it/s, loss=0.608]"
     ]
    },
    {
     "name": "stdout",
     "output_type": "stream",
     "text": [
      "Predictions [array([[0.24263021, 0.        ],\n",
      "       [0.23333639, 0.03933057],\n",
      "       [0.2222805 , 0.01102145],\n",
      "       [0.24868765, 0.00478259],\n",
      "       [0.20471874, 0.03235626],\n",
      "       [0.27980113, 0.0138619 ],\n",
      "       [0.22245646, 0.02685147],\n",
      "       [0.21129438, 0.0420179 ],\n",
      "       [0.20436764, 0.04486816],\n",
      "       [0.20235467, 0.02578346]], dtype=float32)]\n"
     ]
    },
    {
     "name": "stderr",
     "output_type": "stream",
     "text": [
      "\n",
      "\n",
      "\n",
      "\n",
      "\n",
      "  6%|███▉                                                                   | 56/1000 [00:14<03:56,  3.99it/s, loss=0.608]\n",
      "\n",
      "\n",
      "\n",
      "\n",
      "  6%|███▉                                                                   | 56/1000 [00:14<03:56,  3.99it/s, loss=0.611]"
     ]
    },
    {
     "name": "stdout",
     "output_type": "stream",
     "text": [
      "Predictions [array([[0.2632423 , 0.        ],\n",
      "       [0.26458117, 0.        ],\n",
      "       [0.2680001 , 0.        ],\n",
      "       [0.2553093 , 0.        ],\n",
      "       [0.2414099 , 0.01037101],\n",
      "       [0.29223478, 0.        ],\n",
      "       [0.21116552, 0.0176089 ],\n",
      "       [0.25618365, 0.        ],\n",
      "       [0.20349087, 0.02920515],\n",
      "       [0.32809356, 0.        ]], dtype=float32)]\n"
     ]
    },
    {
     "name": "stderr",
     "output_type": "stream",
     "text": [
      "\n",
      "\n",
      "\n",
      "\n",
      "\n",
      "  6%|████                                                                   | 57/1000 [00:14<03:57,  3.97it/s, loss=0.611]\n",
      "\n",
      "\n",
      "\n",
      "\n",
      "  6%|████                                                                   | 57/1000 [00:14<03:57,  3.97it/s, loss=0.605]"
     ]
    },
    {
     "name": "stdout",
     "output_type": "stream",
     "text": [
      "Predictions [array([[0.23072186, 0.02996601],\n",
      "       [0.25852025, 0.        ],\n",
      "       [0.25950164, 0.        ],\n",
      "       [0.31131276, 0.        ],\n",
      "       [0.23485462, 0.0230843 ],\n",
      "       [0.26939896, 0.        ],\n",
      "       [0.29952163, 0.02427979],\n",
      "       [0.27021444, 0.        ],\n",
      "       [0.23169492, 0.        ],\n",
      "       [0.25925943, 0.        ]], dtype=float32)]\n"
     ]
    },
    {
     "name": "stderr",
     "output_type": "stream",
     "text": [
      "\n",
      "\n",
      "\n",
      "\n",
      "\n",
      "  6%|████                                                                   | 58/1000 [00:14<03:58,  3.95it/s, loss=0.605]\n",
      "\n",
      "\n",
      "\n",
      "\n",
      "  6%|████                                                                   | 58/1000 [00:14<03:58,  3.95it/s, loss=0.605]"
     ]
    },
    {
     "name": "stdout",
     "output_type": "stream",
     "text": [
      "Predictions [array([[0.28154388, 0.        ],\n",
      "       [0.29243436, 0.        ],\n",
      "       [0.23995581, 0.00152265],\n",
      "       [0.20101058, 0.02291851],\n",
      "       [0.20279342, 0.03458726],\n",
      "       [0.2330249 , 0.0037958 ],\n",
      "       [0.28877035, 0.        ],\n",
      "       [0.2811996 , 0.        ],\n",
      "       [0.25683382, 0.        ],\n",
      "       [0.2879458 , 0.        ]], dtype=float32)]\n"
     ]
    },
    {
     "name": "stderr",
     "output_type": "stream",
     "text": [
      "\n",
      "\n",
      "\n",
      "\n",
      "\n",
      "  6%|████▏                                                                  | 59/1000 [00:15<03:59,  3.92it/s, loss=0.605]\n",
      "\n",
      "\n",
      "\n",
      "\n",
      "  6%|████▏                                                                  | 59/1000 [00:15<03:59,  3.92it/s, loss=0.604]"
     ]
    },
    {
     "name": "stdout",
     "output_type": "stream",
     "text": [
      "Predictions [array([[0.31676942, 0.        ],\n",
      "       [0.23287563, 0.0272053 ],\n",
      "       [0.22498426, 0.        ],\n",
      "       [0.2793728 , 0.        ],\n",
      "       [0.22705668, 0.01844557],\n",
      "       [0.24233708, 0.01166736],\n",
      "       [0.24884163, 0.00756293],\n",
      "       [0.28299797, 0.        ],\n",
      "       [0.2489463 , 0.00043449],\n",
      "       [0.23050407, 0.        ]], dtype=float32)]\n"
     ]
    },
    {
     "name": "stderr",
     "output_type": "stream",
     "text": [
      "\n",
      "\n",
      "\n",
      "\n",
      "\n",
      "  6%|████▎                                                                  | 60/1000 [00:15<03:57,  3.96it/s, loss=0.604]\n",
      "\n",
      "\n",
      "\n",
      "\n",
      "  6%|████▎                                                                  | 60/1000 [00:15<03:57,  3.96it/s, loss=0.608]"
     ]
    },
    {
     "name": "stdout",
     "output_type": "stream",
     "text": [
      "Predictions [array([[0.24783787, 0.01434073],\n",
      "       [0.24624577, 0.01926347],\n",
      "       [0.2703619 , 0.00190991],\n",
      "       [0.21461903, 0.02819016],\n",
      "       [0.2436942 , 0.00626449],\n",
      "       [0.27013844, 0.00980914],\n",
      "       [0.29090038, 0.        ],\n",
      "       [0.32849392, 0.        ],\n",
      "       [0.25463814, 0.        ],\n",
      "       [0.25033477, 0.00559039]], dtype=float32)]\n"
     ]
    },
    {
     "name": "stderr",
     "output_type": "stream",
     "text": [
      "\n",
      "\n",
      "\n",
      "\n",
      "\n",
      "  6%|████▎                                                                  | 61/1000 [00:15<04:00,  3.91it/s, loss=0.608]\n",
      "\n",
      "\n",
      "\n",
      "\n",
      "  6%|████▎                                                                  | 61/1000 [00:15<04:00,  3.91it/s, loss=0.596]"
     ]
    },
    {
     "name": "stdout",
     "output_type": "stream",
     "text": [
      "Predictions [array([[0.27765423, 0.        ],\n",
      "       [0.27964354, 0.        ],\n",
      "       [0.26639628, 0.        ],\n",
      "       [0.33859903, 0.        ],\n",
      "       [0.2888524 , 0.        ],\n",
      "       [0.25210154, 0.0229313 ],\n",
      "       [0.3027352 , 0.        ],\n",
      "       [0.26323372, 0.00039578],\n",
      "       [0.22244288, 0.02838356],\n",
      "       [0.21854228, 0.02555859]], dtype=float32)]\n"
     ]
    },
    {
     "name": "stderr",
     "output_type": "stream",
     "text": [
      "\n",
      "\n",
      "\n",
      "\n",
      "\n",
      "  6%|████▍                                                                  | 62/1000 [00:15<03:58,  3.93it/s, loss=0.596]\n",
      "\n",
      "\n",
      "\n",
      "\n",
      "  6%|████▍                                                                  | 62/1000 [00:15<03:58,  3.93it/s, loss=0.598]"
     ]
    },
    {
     "name": "stdout",
     "output_type": "stream",
     "text": [
      "Predictions [array([[0.32648644, 0.        ],\n",
      "       [0.31086603, 0.        ],\n",
      "       [0.24091971, 0.01256839],\n",
      "       [0.2803912 , 0.        ],\n",
      "       [0.31659046, 0.        ],\n",
      "       [0.31692484, 0.        ],\n",
      "       [0.26497594, 0.01354978],\n",
      "       [0.27417165, 0.        ],\n",
      "       [0.2573095 , 0.        ],\n",
      "       [0.23470747, 0.02996776]], dtype=float32)]\n"
     ]
    },
    {
     "name": "stderr",
     "output_type": "stream",
     "text": [
      "\n",
      "\n",
      "\n",
      "\n",
      "\n",
      "  6%|████▍                                                                  | 63/1000 [00:16<03:56,  3.97it/s, loss=0.598]\n",
      "\n",
      "\n",
      "\n",
      "\n",
      "  6%|████▍                                                                  | 63/1000 [00:16<03:56,  3.97it/s, loss=0.597]"
     ]
    },
    {
     "name": "stdout",
     "output_type": "stream",
     "text": [
      "Predictions [array([[0.2663852 , 0.03732617],\n",
      "       [0.28753245, 0.        ],\n",
      "       [0.22906624, 0.02630646],\n",
      "       [0.29920602, 0.        ],\n",
      "       [0.2724723 , 0.        ],\n",
      "       [0.2522061 , 0.        ],\n",
      "       [0.32652062, 0.        ],\n",
      "       [0.22139847, 0.04453403],\n",
      "       [0.28544378, 0.        ],\n",
      "       [0.31757283, 0.        ]], dtype=float32)]\n"
     ]
    },
    {
     "name": "stderr",
     "output_type": "stream",
     "text": [
      "\n",
      "\n",
      "\n",
      "\n",
      "\n",
      "  6%|████▌                                                                  | 64/1000 [00:16<03:54,  3.99it/s, loss=0.597]\n",
      "\n",
      "\n",
      "\n",
      "\n",
      "  6%|████▌                                                                  | 64/1000 [00:16<03:54,  3.99it/s, loss=0.599]"
     ]
    },
    {
     "name": "stdout",
     "output_type": "stream",
     "text": [
      "Predictions [array([[0.24865043, 0.02267911],\n",
      "       [0.27751967, 0.        ],\n",
      "       [0.27355942, 0.        ],\n",
      "       [0.28139603, 0.        ],\n",
      "       [0.24423411, 0.01690558],\n",
      "       [0.28695968, 0.        ],\n",
      "       [0.24464105, 0.04429917],\n",
      "       [0.2282978 , 0.03791159],\n",
      "       [0.2838968 , 0.01226396],\n",
      "       [0.2417076 , 0.02731138]], dtype=float32)]\n"
     ]
    },
    {
     "name": "stderr",
     "output_type": "stream",
     "text": [
      "\n",
      "\n",
      "\n",
      "\n",
      "\n",
      "  6%|████▌                                                                  | 65/1000 [00:16<03:54,  3.98it/s, loss=0.599]\n",
      "\n",
      "\n",
      "\n",
      "\n",
      "  6%|████▌                                                                  | 65/1000 [00:16<03:54,  3.98it/s, loss=0.592]"
     ]
    },
    {
     "name": "stdout",
     "output_type": "stream",
     "text": [
      "Predictions [array([[0.3059768 , 0.        ],\n",
      "       [0.39360255, 0.        ],\n",
      "       [0.25448915, 0.00510871],\n",
      "       [0.26208884, 0.02473585],\n",
      "       [0.2326585 , 0.04408923],\n",
      "       [0.27099574, 0.        ],\n",
      "       [0.24453972, 0.01103938],\n",
      "       [0.31381842, 0.        ],\n",
      "       [0.3107799 , 0.        ],\n",
      "       [0.36664516, 0.        ]], dtype=float32)]\n"
     ]
    },
    {
     "name": "stderr",
     "output_type": "stream",
     "text": [
      "\n",
      "\n",
      "\n",
      "\n",
      "\n",
      "  7%|████▋                                                                  | 66/1000 [00:16<03:56,  3.95it/s, loss=0.592]\n",
      "\n",
      "\n",
      "\n",
      "\n",
      "  7%|████▋                                                                  | 66/1000 [00:16<03:56,  3.95it/s, loss=0.590]"
     ]
    },
    {
     "name": "stdout",
     "output_type": "stream",
     "text": [
      "Predictions [array([[0.26980028, 0.        ],\n",
      "       [0.31067616, 0.        ],\n",
      "       [0.35051847, 0.        ],\n",
      "       [0.27039018, 0.00260112],\n",
      "       [0.296324  , 0.        ],\n",
      "       [0.27736318, 0.        ],\n",
      "       [0.23544905, 0.02825163],\n",
      "       [0.340401  , 0.        ],\n",
      "       [0.34258655, 0.        ],\n",
      "       [0.2662024 , 0.        ]], dtype=float32)]\n"
     ]
    },
    {
     "name": "stderr",
     "output_type": "stream",
     "text": [
      "\n",
      "\n",
      "\n",
      "\n",
      "\n",
      "  7%|████▊                                                                  | 67/1000 [00:17<03:58,  3.92it/s, loss=0.590]\n",
      "\n",
      "\n",
      "\n",
      "\n",
      "  7%|████▊                                                                  | 67/1000 [00:17<03:58,  3.92it/s, loss=0.589]"
     ]
    },
    {
     "name": "stdout",
     "output_type": "stream",
     "text": [
      "Predictions [array([[0.2861545 , 0.        ],\n",
      "       [0.27404606, 0.00210324],\n",
      "       [0.32581484, 0.        ],\n",
      "       [0.29074758, 0.        ],\n",
      "       [0.2960712 , 0.        ],\n",
      "       [0.3390612 , 0.        ],\n",
      "       [0.29975313, 0.00176708],\n",
      "       [0.34558922, 0.        ],\n",
      "       [0.2911339 , 0.        ],\n",
      "       [0.3206093 , 0.        ]], dtype=float32)]\n"
     ]
    },
    {
     "name": "stderr",
     "output_type": "stream",
     "text": [
      "\n",
      "\n",
      "\n",
      "\n",
      "\n",
      "  7%|████▊                                                                  | 68/1000 [00:17<03:54,  3.97it/s, loss=0.589]\n",
      "\n",
      "\n",
      "\n",
      "\n",
      "  7%|████▊                                                                  | 68/1000 [00:17<03:54,  3.97it/s, loss=0.587]"
     ]
    },
    {
     "name": "stdout",
     "output_type": "stream",
     "text": [
      "Predictions [array([[0.27401692, 0.        ],\n",
      "       [0.34857798, 0.        ],\n",
      "       [0.2658667 , 0.02700671],\n",
      "       [0.31079075, 0.        ],\n",
      "       [0.3043474 , 0.        ],\n",
      "       [0.35455337, 0.        ],\n",
      "       [0.32701373, 0.        ],\n",
      "       [0.2830756 , 0.        ],\n",
      "       [0.2740509 , 0.        ],\n",
      "       [0.38393664, 0.        ]], dtype=float32)]\n"
     ]
    },
    {
     "name": "stderr",
     "output_type": "stream",
     "text": [
      "\n",
      "\n",
      "\n",
      "\n",
      "\n",
      "  7%|████▉                                                                  | 69/1000 [00:17<03:54,  3.97it/s, loss=0.587]\n",
      "\n",
      "\n",
      "\n",
      "\n",
      "  7%|████▉                                                                  | 69/1000 [00:17<03:54,  3.97it/s, loss=0.590]"
     ]
    },
    {
     "name": "stdout",
     "output_type": "stream",
     "text": [
      "Predictions [array([[0.2755202 , 0.        ],\n",
      "       [0.29348278, 0.        ],\n",
      "       [0.39872265, 0.        ],\n",
      "       [0.30471626, 0.        ],\n",
      "       [0.21913871, 0.02582741],\n",
      "       [0.2763331 , 0.04509306],\n",
      "       [0.24460855, 0.01698097],\n",
      "       [0.29622072, 0.        ],\n",
      "       [0.24391659, 0.02543663],\n",
      "       [0.32175106, 0.        ]], dtype=float32)]\n"
     ]
    },
    {
     "name": "stderr",
     "output_type": "stream",
     "text": [
      "\n",
      "\n",
      "\n",
      "\n",
      "\n",
      "  7%|████▉                                                                  | 70/1000 [00:17<03:53,  3.98it/s, loss=0.590]\n",
      "\n",
      "\n",
      "\n",
      "\n",
      "  7%|████▉                                                                  | 70/1000 [00:17<03:53,  3.98it/s, loss=0.578]"
     ]
    },
    {
     "name": "stdout",
     "output_type": "stream",
     "text": [
      "Predictions [array([[0.29921436, 0.        ],\n",
      "       [0.3016637 , 0.        ],\n",
      "       [0.24094808, 0.02804405],\n",
      "       [0.29105544, 0.        ],\n",
      "       [0.32643348, 0.        ],\n",
      "       [0.30985656, 0.00169771],\n",
      "       [0.23102455, 0.01558714],\n",
      "       [0.25852084, 0.01258781],\n",
      "       [0.33309212, 0.        ],\n",
      "       [0.29093444, 0.        ]], dtype=float32)]\n"
     ]
    },
    {
     "name": "stderr",
     "output_type": "stream",
     "text": [
      "\n",
      "\n",
      "\n",
      "\n",
      "\n",
      "  7%|█████                                                                  | 71/1000 [00:18<03:54,  3.97it/s, loss=0.578]\n",
      "\n",
      "\n",
      "\n",
      "\n",
      "  7%|█████                                                                  | 71/1000 [00:18<03:54,  3.97it/s, loss=0.582]"
     ]
    },
    {
     "name": "stdout",
     "output_type": "stream",
     "text": [
      "Predictions [array([[0.27076724, 0.        ],\n",
      "       [0.31621128, 0.        ],\n",
      "       [0.27017757, 0.00877883],\n",
      "       [0.29370794, 0.        ],\n",
      "       [0.2857883 , 0.        ],\n",
      "       [0.28115782, 0.        ],\n",
      "       [0.31940544, 0.        ],\n",
      "       [0.2782238 , 0.        ],\n",
      "       [0.34073278, 0.        ],\n",
      "       [0.37597397, 0.        ]], dtype=float32)]\n"
     ]
    },
    {
     "name": "stderr",
     "output_type": "stream",
     "text": [
      "\n",
      "\n",
      "\n",
      "\n",
      "\n",
      "  7%|█████                                                                  | 72/1000 [00:18<03:53,  3.98it/s, loss=0.582]\n",
      "\n",
      "\n",
      "\n",
      "\n",
      "  7%|█████                                                                  | 72/1000 [00:18<03:53,  3.98it/s, loss=0.578]"
     ]
    },
    {
     "name": "stdout",
     "output_type": "stream",
     "text": [
      "Predictions [array([[3.7915263e-01, 0.0000000e+00],\n",
      "       [2.6006487e-01, 0.0000000e+00],\n",
      "       [3.1059375e-01, 0.0000000e+00],\n",
      "       [3.4530053e-01, 0.0000000e+00],\n",
      "       [3.0342254e-01, 3.2828748e-04],\n",
      "       [2.9762971e-01, 0.0000000e+00],\n",
      "       [2.8972396e-01, 0.0000000e+00],\n",
      "       [2.6414406e-01, 6.9369972e-03],\n",
      "       [3.7369546e-01, 0.0000000e+00],\n",
      "       [2.8961200e-01, 0.0000000e+00]], dtype=float32)]\n"
     ]
    },
    {
     "name": "stderr",
     "output_type": "stream",
     "text": [
      "\n",
      "\n",
      "\n",
      "\n",
      "\n",
      "  7%|█████▏                                                                 | 73/1000 [00:18<04:07,  3.74it/s, loss=0.578]\n",
      "\n",
      "\n",
      "\n",
      "\n",
      "  7%|█████▏                                                                 | 73/1000 [00:18<04:07,  3.74it/s, loss=0.578]"
     ]
    },
    {
     "name": "stdout",
     "output_type": "stream",
     "text": [
      "Predictions [array([[0.42705753, 0.        ],\n",
      "       [0.3445332 , 0.        ],\n",
      "       [0.3241655 , 0.        ],\n",
      "       [0.36583892, 0.        ],\n",
      "       [0.36231244, 0.        ],\n",
      "       [0.34600008, 0.        ],\n",
      "       [0.327605  , 0.        ],\n",
      "       [0.3010012 , 0.        ],\n",
      "       [0.33853495, 0.        ],\n",
      "       [0.2995871 , 0.        ]], dtype=float32)]\n"
     ]
    },
    {
     "name": "stderr",
     "output_type": "stream",
     "text": [
      "\n",
      "\n",
      "\n",
      "\n",
      "\n",
      "  7%|█████▎                                                                 | 74/1000 [00:18<04:06,  3.75it/s, loss=0.578]\n",
      "\n",
      "\n",
      "\n",
      "\n",
      "  7%|█████▎                                                                 | 74/1000 [00:19<04:06,  3.75it/s, loss=0.573]"
     ]
    },
    {
     "name": "stdout",
     "output_type": "stream",
     "text": [
      "Predictions [array([[0.33347157, 0.        ],\n",
      "       [0.29243618, 0.        ],\n",
      "       [0.2709846 , 0.        ],\n",
      "       [0.39594   , 0.        ],\n",
      "       [0.25125843, 0.01280931],\n",
      "       [0.38402444, 0.        ],\n",
      "       [0.29871237, 0.        ],\n",
      "       [0.30515277, 0.01320011],\n",
      "       [0.3537882 , 0.        ],\n",
      "       [0.32623968, 0.        ]], dtype=float32)]\n"
     ]
    },
    {
     "name": "stderr",
     "output_type": "stream",
     "text": [
      "\n",
      "\n",
      "\n",
      "\n",
      "\n",
      "  8%|█████▎                                                                 | 75/1000 [00:19<04:08,  3.72it/s, loss=0.573]\n",
      "\n",
      "\n",
      "\n",
      "\n",
      "  8%|█████▎                                                                 | 75/1000 [00:19<04:08,  3.72it/s, loss=0.575]"
     ]
    },
    {
     "name": "stdout",
     "output_type": "stream",
     "text": [
      "Predictions [array([[0.39641577, 0.        ],\n",
      "       [0.37053317, 0.        ],\n",
      "       [0.2721934 , 0.        ],\n",
      "       [0.37044683, 0.        ],\n",
      "       [0.2547342 , 0.02028164],\n",
      "       [0.37386218, 0.        ],\n",
      "       [0.33743104, 0.        ],\n",
      "       [0.38231716, 0.        ],\n",
      "       [0.35307115, 0.        ],\n",
      "       [0.31094337, 0.        ]], dtype=float32)]\n"
     ]
    },
    {
     "name": "stderr",
     "output_type": "stream",
     "text": [
      "\n",
      "\n",
      "\n",
      "\n",
      "\n",
      "  8%|█████▍                                                                 | 76/1000 [00:19<04:06,  3.75it/s, loss=0.575]"
     ]
    },
    {
     "ename": "KeyboardInterrupt",
     "evalue": "",
     "output_type": "error",
     "traceback": [
      "\u001b[1;31m---------------------------------------------------------------------------\u001b[0m",
      "\u001b[1;31mKeyboardInterrupt\u001b[0m                         Traceback (most recent call last)",
      "\u001b[1;32m<ipython-input-20-274f6170977c>\u001b[0m in \u001b[0;36m<module>\u001b[1;34m()\u001b[0m\n\u001b[0;32m      5\u001b[0m \u001b[0meval_model_spec\u001b[0m \u001b[1;33m=\u001b[0m \u001b[0mmodel_fn\u001b[0m\u001b[1;33m(\u001b[0m\u001b[1;34m\"eval\"\u001b[0m\u001b[1;33m,\u001b[0m\u001b[1;34m\"./validationEmbeddings.tfrecords\"\u001b[0m\u001b[1;33m,\u001b[0m\u001b[0mparams\u001b[0m\u001b[1;33m)\u001b[0m\u001b[1;33m\u001b[0m\u001b[0m\n\u001b[0;32m      6\u001b[0m \u001b[0mlogging\u001b[0m\u001b[1;33m.\u001b[0m\u001b[0minfo\u001b[0m\u001b[1;33m(\u001b[0m\u001b[1;34m\"Starting training for {} epoch(s)\"\u001b[0m\u001b[1;33m.\u001b[0m\u001b[0mformat\u001b[0m\u001b[1;33m(\u001b[0m\u001b[0mparams\u001b[0m\u001b[1;33m[\u001b[0m\u001b[1;34m\"EPOCHS\"\u001b[0m\u001b[1;33m]\u001b[0m\u001b[1;33m)\u001b[0m\u001b[1;33m)\u001b[0m\u001b[1;33m\u001b[0m\u001b[0m\n\u001b[1;32m----> 7\u001b[1;33m \u001b[0mtrain_and_evaluate\u001b[0m\u001b[1;33m(\u001b[0m\u001b[0mtrain_model_spec\u001b[0m\u001b[1;33m,\u001b[0m \u001b[0meval_model_spec\u001b[0m\u001b[1;33m,\u001b[0m \u001b[1;34m\"./ModelLogs\"\u001b[0m\u001b[1;33m,\u001b[0m \u001b[0mparams\u001b[0m\u001b[1;33m)\u001b[0m\u001b[1;33m\u001b[0m\u001b[0m\n\u001b[0m",
      "\u001b[1;32m<ipython-input-8-de473383f467>\u001b[0m in \u001b[0;36mtrain_and_evaluate\u001b[1;34m(train_model_spec, eval_model_spec, model_dir, params)\u001b[0m\n\u001b[0;32m     37\u001b[0m             \u001b[0mlogging\u001b[0m\u001b[1;33m.\u001b[0m\u001b[0minfo\u001b[0m\u001b[1;33m(\u001b[0m\u001b[1;34m\"Epoch {}/{}\"\u001b[0m\u001b[1;33m.\u001b[0m\u001b[0mformat\u001b[0m\u001b[1;33m(\u001b[0m\u001b[0mepoch\u001b[0m \u001b[1;33m+\u001b[0m \u001b[1;36m1\u001b[0m\u001b[1;33m,\u001b[0m \u001b[0mEPOCHS\u001b[0m\u001b[1;33m)\u001b[0m\u001b[1;33m)\u001b[0m\u001b[1;33m\u001b[0m\u001b[0m\n\u001b[0;32m     38\u001b[0m \u001b[1;33m\u001b[0m\u001b[0m\n\u001b[1;32m---> 39\u001b[1;33m             \u001b[0mtrain_sess\u001b[0m\u001b[1;33m(\u001b[0m\u001b[0msess\u001b[0m\u001b[1;33m,\u001b[0m \u001b[0mtrain_model_spec\u001b[0m\u001b[1;33m,\u001b[0m \u001b[0mBatchesPerEpoch\u001b[0m\u001b[1;33m,\u001b[0m \u001b[0mtrain_writer\u001b[0m\u001b[1;33m,\u001b[0m \u001b[0mparams\u001b[0m\u001b[1;33m)\u001b[0m\u001b[1;33m\u001b[0m\u001b[0m\n\u001b[0m\u001b[0;32m     40\u001b[0m \u001b[1;33m\u001b[0m\u001b[0m\n\u001b[0;32m     41\u001b[0m             \u001b[1;31m# Save weights\u001b[0m\u001b[1;33m\u001b[0m\u001b[1;33m\u001b[0m\u001b[0m\n",
      "\u001b[1;32m<ipython-input-19-8440ce7fab14>\u001b[0m in \u001b[0;36mtrain_sess\u001b[1;34m(sess, model_spec, num_steps, writer, params)\u001b[0m\n\u001b[0;32m     33\u001b[0m             \u001b[0mwriter\u001b[0m\u001b[1;33m.\u001b[0m\u001b[0madd_summary\u001b[0m\u001b[1;33m(\u001b[0m\u001b[0msumm\u001b[0m\u001b[1;33m,\u001b[0m \u001b[0mglobal_step_val\u001b[0m\u001b[1;33m)\u001b[0m\u001b[1;33m\u001b[0m\u001b[0m\n\u001b[0;32m     34\u001b[0m         \u001b[1;32melse\u001b[0m\u001b[1;33m:\u001b[0m\u001b[1;33m\u001b[0m\u001b[0m\n\u001b[1;32m---> 35\u001b[1;33m             \u001b[0m_\u001b[0m\u001b[1;33m,\u001b[0m \u001b[0m_\u001b[0m\u001b[1;33m,\u001b[0m \u001b[0mloss_val\u001b[0m \u001b[1;33m=\u001b[0m \u001b[0msess\u001b[0m\u001b[1;33m.\u001b[0m\u001b[0mrun\u001b[0m\u001b[1;33m(\u001b[0m\u001b[1;33m[\u001b[0m\u001b[0mtrain_op\u001b[0m\u001b[1;33m,\u001b[0m \u001b[0mupdate_metrics\u001b[0m\u001b[1;33m,\u001b[0m \u001b[0mloss\u001b[0m\u001b[1;33m]\u001b[0m\u001b[1;33m)\u001b[0m\u001b[1;33m\u001b[0m\u001b[0m\n\u001b[0m\u001b[0;32m     36\u001b[0m         \u001b[1;31m# Log the loss in the tqdm progress bar\u001b[0m\u001b[1;33m\u001b[0m\u001b[1;33m\u001b[0m\u001b[0m\n\u001b[0;32m     37\u001b[0m         \u001b[0mt\u001b[0m\u001b[1;33m.\u001b[0m\u001b[0mset_postfix\u001b[0m\u001b[1;33m(\u001b[0m\u001b[0mloss\u001b[0m\u001b[1;33m=\u001b[0m\u001b[1;34m'{:05.3f}'\u001b[0m\u001b[1;33m.\u001b[0m\u001b[0mformat\u001b[0m\u001b[1;33m(\u001b[0m\u001b[0mloss_val\u001b[0m\u001b[1;33m)\u001b[0m\u001b[1;33m)\u001b[0m\u001b[1;33m\u001b[0m\u001b[0m\n",
      "\u001b[1;32m~\\AppData\\Local\\Continuum\\anaconda3\\lib\\site-packages\\tensorflow\\python\\client\\session.py\u001b[0m in \u001b[0;36mrun\u001b[1;34m(self, fetches, feed_dict, options, run_metadata)\u001b[0m\n\u001b[0;32m    927\u001b[0m     \u001b[1;32mtry\u001b[0m\u001b[1;33m:\u001b[0m\u001b[1;33m\u001b[0m\u001b[0m\n\u001b[0;32m    928\u001b[0m       result = self._run(None, fetches, feed_dict, options_ptr,\n\u001b[1;32m--> 929\u001b[1;33m                          run_metadata_ptr)\n\u001b[0m\u001b[0;32m    930\u001b[0m       \u001b[1;32mif\u001b[0m \u001b[0mrun_metadata\u001b[0m\u001b[1;33m:\u001b[0m\u001b[1;33m\u001b[0m\u001b[0m\n\u001b[0;32m    931\u001b[0m         \u001b[0mproto_data\u001b[0m \u001b[1;33m=\u001b[0m \u001b[0mtf_session\u001b[0m\u001b[1;33m.\u001b[0m\u001b[0mTF_GetBuffer\u001b[0m\u001b[1;33m(\u001b[0m\u001b[0mrun_metadata_ptr\u001b[0m\u001b[1;33m)\u001b[0m\u001b[1;33m\u001b[0m\u001b[0m\n",
      "\u001b[1;32m~\\AppData\\Local\\Continuum\\anaconda3\\lib\\site-packages\\tensorflow\\python\\client\\session.py\u001b[0m in \u001b[0;36m_run\u001b[1;34m(self, handle, fetches, feed_dict, options, run_metadata)\u001b[0m\n\u001b[0;32m   1150\u001b[0m     \u001b[1;32mif\u001b[0m \u001b[0mfinal_fetches\u001b[0m \u001b[1;32mor\u001b[0m \u001b[0mfinal_targets\u001b[0m \u001b[1;32mor\u001b[0m \u001b[1;33m(\u001b[0m\u001b[0mhandle\u001b[0m \u001b[1;32mand\u001b[0m \u001b[0mfeed_dict_tensor\u001b[0m\u001b[1;33m)\u001b[0m\u001b[1;33m:\u001b[0m\u001b[1;33m\u001b[0m\u001b[0m\n\u001b[0;32m   1151\u001b[0m       results = self._do_run(handle, final_targets, final_fetches,\n\u001b[1;32m-> 1152\u001b[1;33m                              feed_dict_tensor, options, run_metadata)\n\u001b[0m\u001b[0;32m   1153\u001b[0m     \u001b[1;32melse\u001b[0m\u001b[1;33m:\u001b[0m\u001b[1;33m\u001b[0m\u001b[0m\n\u001b[0;32m   1154\u001b[0m       \u001b[0mresults\u001b[0m \u001b[1;33m=\u001b[0m \u001b[1;33m[\u001b[0m\u001b[1;33m]\u001b[0m\u001b[1;33m\u001b[0m\u001b[0m\n",
      "\u001b[1;32m~\\AppData\\Local\\Continuum\\anaconda3\\lib\\site-packages\\tensorflow\\python\\client\\session.py\u001b[0m in \u001b[0;36m_do_run\u001b[1;34m(self, handle, target_list, fetch_list, feed_dict, options, run_metadata)\u001b[0m\n\u001b[0;32m   1326\u001b[0m     \u001b[1;32mif\u001b[0m \u001b[0mhandle\u001b[0m \u001b[1;32mis\u001b[0m \u001b[1;32mNone\u001b[0m\u001b[1;33m:\u001b[0m\u001b[1;33m\u001b[0m\u001b[0m\n\u001b[0;32m   1327\u001b[0m       return self._do_call(_run_fn, feeds, fetches, targets, options,\n\u001b[1;32m-> 1328\u001b[1;33m                            run_metadata)\n\u001b[0m\u001b[0;32m   1329\u001b[0m     \u001b[1;32melse\u001b[0m\u001b[1;33m:\u001b[0m\u001b[1;33m\u001b[0m\u001b[0m\n\u001b[0;32m   1330\u001b[0m       \u001b[1;32mreturn\u001b[0m \u001b[0mself\u001b[0m\u001b[1;33m.\u001b[0m\u001b[0m_do_call\u001b[0m\u001b[1;33m(\u001b[0m\u001b[0m_prun_fn\u001b[0m\u001b[1;33m,\u001b[0m \u001b[0mhandle\u001b[0m\u001b[1;33m,\u001b[0m \u001b[0mfeeds\u001b[0m\u001b[1;33m,\u001b[0m \u001b[0mfetches\u001b[0m\u001b[1;33m)\u001b[0m\u001b[1;33m\u001b[0m\u001b[0m\n",
      "\u001b[1;32m~\\AppData\\Local\\Continuum\\anaconda3\\lib\\site-packages\\tensorflow\\python\\client\\session.py\u001b[0m in \u001b[0;36m_do_call\u001b[1;34m(self, fn, *args)\u001b[0m\n\u001b[0;32m   1332\u001b[0m   \u001b[1;32mdef\u001b[0m \u001b[0m_do_call\u001b[0m\u001b[1;33m(\u001b[0m\u001b[0mself\u001b[0m\u001b[1;33m,\u001b[0m \u001b[0mfn\u001b[0m\u001b[1;33m,\u001b[0m \u001b[1;33m*\u001b[0m\u001b[0margs\u001b[0m\u001b[1;33m)\u001b[0m\u001b[1;33m:\u001b[0m\u001b[1;33m\u001b[0m\u001b[0m\n\u001b[0;32m   1333\u001b[0m     \u001b[1;32mtry\u001b[0m\u001b[1;33m:\u001b[0m\u001b[1;33m\u001b[0m\u001b[0m\n\u001b[1;32m-> 1334\u001b[1;33m       \u001b[1;32mreturn\u001b[0m \u001b[0mfn\u001b[0m\u001b[1;33m(\u001b[0m\u001b[1;33m*\u001b[0m\u001b[0margs\u001b[0m\u001b[1;33m)\u001b[0m\u001b[1;33m\u001b[0m\u001b[0m\n\u001b[0m\u001b[0;32m   1335\u001b[0m     \u001b[1;32mexcept\u001b[0m \u001b[0merrors\u001b[0m\u001b[1;33m.\u001b[0m\u001b[0mOpError\u001b[0m \u001b[1;32mas\u001b[0m \u001b[0me\u001b[0m\u001b[1;33m:\u001b[0m\u001b[1;33m\u001b[0m\u001b[0m\n\u001b[0;32m   1336\u001b[0m       \u001b[0mmessage\u001b[0m \u001b[1;33m=\u001b[0m \u001b[0mcompat\u001b[0m\u001b[1;33m.\u001b[0m\u001b[0mas_text\u001b[0m\u001b[1;33m(\u001b[0m\u001b[0me\u001b[0m\u001b[1;33m.\u001b[0m\u001b[0mmessage\u001b[0m\u001b[1;33m)\u001b[0m\u001b[1;33m\u001b[0m\u001b[0m\n",
      "\u001b[1;32m~\\AppData\\Local\\Continuum\\anaconda3\\lib\\site-packages\\tensorflow\\python\\client\\session.py\u001b[0m in \u001b[0;36m_run_fn\u001b[1;34m(feed_dict, fetch_list, target_list, options, run_metadata)\u001b[0m\n\u001b[0;32m   1317\u001b[0m       \u001b[0mself\u001b[0m\u001b[1;33m.\u001b[0m\u001b[0m_extend_graph\u001b[0m\u001b[1;33m(\u001b[0m\u001b[1;33m)\u001b[0m\u001b[1;33m\u001b[0m\u001b[0m\n\u001b[0;32m   1318\u001b[0m       return self._call_tf_sessionrun(\n\u001b[1;32m-> 1319\u001b[1;33m           options, feed_dict, fetch_list, target_list, run_metadata)\n\u001b[0m\u001b[0;32m   1320\u001b[0m \u001b[1;33m\u001b[0m\u001b[0m\n\u001b[0;32m   1321\u001b[0m     \u001b[1;32mdef\u001b[0m \u001b[0m_prun_fn\u001b[0m\u001b[1;33m(\u001b[0m\u001b[0mhandle\u001b[0m\u001b[1;33m,\u001b[0m \u001b[0mfeed_dict\u001b[0m\u001b[1;33m,\u001b[0m \u001b[0mfetch_list\u001b[0m\u001b[1;33m)\u001b[0m\u001b[1;33m:\u001b[0m\u001b[1;33m\u001b[0m\u001b[0m\n",
      "\u001b[1;32m~\\AppData\\Local\\Continuum\\anaconda3\\lib\\site-packages\\tensorflow\\python\\client\\session.py\u001b[0m in \u001b[0;36m_call_tf_sessionrun\u001b[1;34m(self, options, feed_dict, fetch_list, target_list, run_metadata)\u001b[0m\n\u001b[0;32m   1405\u001b[0m     return tf_session.TF_SessionRun_wrapper(\n\u001b[0;32m   1406\u001b[0m         \u001b[0mself\u001b[0m\u001b[1;33m.\u001b[0m\u001b[0m_session\u001b[0m\u001b[1;33m,\u001b[0m \u001b[0moptions\u001b[0m\u001b[1;33m,\u001b[0m \u001b[0mfeed_dict\u001b[0m\u001b[1;33m,\u001b[0m \u001b[0mfetch_list\u001b[0m\u001b[1;33m,\u001b[0m \u001b[0mtarget_list\u001b[0m\u001b[1;33m,\u001b[0m\u001b[1;33m\u001b[0m\u001b[0m\n\u001b[1;32m-> 1407\u001b[1;33m         run_metadata)\n\u001b[0m\u001b[0;32m   1408\u001b[0m \u001b[1;33m\u001b[0m\u001b[0m\n\u001b[0;32m   1409\u001b[0m   \u001b[1;32mdef\u001b[0m \u001b[0m_call_tf_sessionprun\u001b[0m\u001b[1;33m(\u001b[0m\u001b[0mself\u001b[0m\u001b[1;33m,\u001b[0m \u001b[0mhandle\u001b[0m\u001b[1;33m,\u001b[0m \u001b[0mfeed_dict\u001b[0m\u001b[1;33m,\u001b[0m \u001b[0mfetch_list\u001b[0m\u001b[1;33m)\u001b[0m\u001b[1;33m:\u001b[0m\u001b[1;33m\u001b[0m\u001b[0m\n",
      "\u001b[1;31mKeyboardInterrupt\u001b[0m: "
     ]
    }
   ],
   "source": [
    "#-----------------Main function for training\n",
    "\n",
    "tf.reset_default_graph()\n",
    "train_model_spec = model_fn(\"train\",\"./trainEmbeddings.tfrecords\",params)\n",
    "eval_model_spec = model_fn(\"eval\",\"./validationEmbeddings.tfrecords\",params)\n",
    "logging.info(\"Starting training for {} epoch(s)\".format(params[\"EPOCHS\"]))\n",
    "train_and_evaluate(train_model_spec, eval_model_spec, \"./ModelLogs\", params)"
   ]
  },
  {
   "cell_type": "code",
   "execution_count": null,
   "metadata": {},
   "outputs": [],
   "source": [
    "#-----------------Main function for testing\n",
    "\n",
    "tf.reset_default_graph()\n",
    "eval_model_spec = modelTest_fn(\"test\",\"./evalUnlabelledEmbeddings.tfrecords\",params)\n",
    "logging.info(\"Starting training for {} epoch(s)\".format(params[\"EPOCHS\"]))\n",
    "df = evaluate(eval_model_spec, \"./ModelLogs\", params,\"best_weights\")\n",
    "\n",
    "import csv\n",
    "tmp = (df.groupby('query_id')['predictions']\n",
    "       .apply(lambda x: \"\\t\".join([format(val, \"0.2f\") for val in x]))\n",
    "       .reset_index())\n",
    "\n",
    "tmp.to_csv(\"./answer.tsv\",index=False,sep= \"\\t\",header=None,quoting=csv.QUOTE_NONE,quotechar=\"\",  escapechar=\"\\\\\")"
   ]
  },
  {
   "cell_type": "code",
   "execution_count": null,
   "metadata": {},
   "outputs": [],
   "source": [
    "#df.head(100)\n",
    "#map(str,x)\n",
    "import csv\n",
    "tmp = (df.groupby('query_id')['predictions']\n",
    "       .apply(lambda x: \"\\t\".join([format(val, \"0.2f\") for val in x]))\n",
    "       .reset_index())\n",
    "\n",
    "tmp.to_csv(\"./answer.tsv\",index=False,sep= \"\\t\",header=None,quoting=csv.QUOTE_NONE,quotechar=\"\",  escapechar=\"\\\\\")"
   ]
  },
  {
   "cell_type": "code",
   "execution_count": null,
   "metadata": {},
   "outputs": [],
   "source": [
    "df[df[\"query_id\"] == 89][\"predictions\"].apply(lambda x: \"\\t\".join(format(x, \"0.2f\")))"
   ]
  },
  {
   "cell_type": "code",
   "execution_count": null,
   "metadata": {},
   "outputs": [],
   "source": [
    "tmp.head()"
   ]
  }
 ],
 "metadata": {
  "kernelspec": {
   "display_name": "Python 3",
   "language": "python",
   "name": "python3"
  },
  "language_info": {
   "codemirror_mode": {
    "name": "ipython",
    "version": 3
   },
   "file_extension": ".py",
   "mimetype": "text/x-python",
   "name": "python",
   "nbconvert_exporter": "python",
   "pygments_lexer": "ipython3",
   "version": "3.6.5"
  }
 },
 "nbformat": 4,
 "nbformat_minor": 2
}
